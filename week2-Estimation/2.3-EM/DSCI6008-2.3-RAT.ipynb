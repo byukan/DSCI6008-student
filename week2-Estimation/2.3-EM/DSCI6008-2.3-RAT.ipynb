{
 "cells": [
  {
   "cell_type": "markdown",
   "metadata": {},
   "source": [
    "# RAT 3  \n",
    "\n",
    "1) What is the difference between MOM and MLE estimator? In which cases would you want to use either of them?  "
   ]
  },
  {
   "cell_type": "markdown",
   "metadata": {},
   "source": [
    "2) Here's a game: 2 fair dice are rolled, if sum of the two dice is 7, you win \\$13. It costs \\$3 to play. Would you play? Why or why not? "
   ]
  },
  {
   "cell_type": "markdown",
   "metadata": {},
   "source": [
    "3) If you keep playing until you win. What is the probability of winning a positive amount in the end?"
   ]
  }
 ],
 "metadata": {
  "anaconda-cloud": {},
  "kernelspec": {
   "display_name": "R",
   "language": "R",
   "name": "ir"
  },
  "language_info": {
   "codemirror_mode": "r",
   "file_extension": ".r",
   "mimetype": "text/x-r-source",
   "name": "R",
   "pygments_lexer": "r",
   "version": "3.3.1"
  }
 },
 "nbformat": 4,
 "nbformat_minor": 1
}
