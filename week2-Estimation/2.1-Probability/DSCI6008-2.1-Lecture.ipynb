{
 "cells": [
  {
   "cell_type": "markdown",
   "metadata": {},
   "source": [
    "# Lecture 2.1: Probability Review  \n",
    "\n",
    "## Outline  \n",
    "\n",
    "* Union, intersection, complement  \n",
    "* Mutually Exclusive Events\n",
    "* Independent Events\n",
    "* Counting  \n",
    "* Conditional Probability\n",
    "* Law of Total Probability  \n",
    "* Bayes' Theorem\n",
    "* Random Variables  \n",
    "\n",
    "The quizzes and exercises are taken from [120 Data Science Interview Questions](http://www.datasciencequestions.com/#what-s-inside)."
   ]
  },
  {
   "cell_type": "markdown",
   "metadata": {},
   "source": [
    "---"
   ]
  },
  {
   "cell_type": "markdown",
   "metadata": {},
   "source": [
    "**Quiz**: I write a program that should print out all the numbers from 1 to 300, but prints out Fizz instead if the number is divisible by 3, Buzz instead if the number is divisible by 5, and FizzBuzz if the number is divisible by 3 and 5. What is the total number of numbers that is either Fizzed, Buzzed, or FizzBuzzed?  "
   ]
  },
  {
   "cell_type": "markdown",
   "metadata": {},
   "source": [
    "## Combining Events\n",
    "\n",
    "* The ** union ** of two events $A$ and $B$, denoted $A \\cup B$, is the set of outcomes that belong either to $A$, to $B$, or to both. In words,  $A \\cup B$ means \"A and/or B.\" \n",
    "* The ** intersection ** of two events $A$ and $B$, denoted $A \\cap B$, is the set of outcomes that belong both to $A$ and to $B$. In words, $A \\cap B$ means “A and B.”\n",
    "* The ** complement ** of an event $A$, denoted $A^c$, is the set of outcomes that do not belong to $A$. In words, $A^c$ means \"not A.\"  \n",
    "\n",
    "<img src=\"images/venn.png\" width=\"700\">  \n",
    "\n",
    "* $\\emptyset^c = \\Omega$ and $\\Omega^c = \\emptyset$\n",
    "\n",
    "* For any event $A$, $A \\cup A^c = \\Omega$ and $A \\cap A^c = \\emptyset$\n",
    "\n",
    "* For any events $A$ and $B$,  \n",
    "\n",
    "$$A \\cup B = B \\cup A$$  \n",
    "$$A \\cap B = B \\cap A$$\n",
    "\n",
    "and \n",
    "\n",
    "$$(A \\cup B)^c = A^c \\cap B^c$$  \n",
    "$$(A \\cap B)^c = A^c \\cup B^c$$  \n",
    "\n",
    "* For any sets $A$, $B$ and $C$:\n",
    "\n",
    "$$ A \\cup (B \\cap C) = (A \\cup B) \\cap (A \\cup C)$$\n",
    "\n",
    "\n",
    "$$ A \\cap (B \\cup C) = (A \\cap B) \\cup (A \\cap C)$$  \n",
    "\n",
    "* The probability of event the \"not A\":   \n",
    "\n",
    "$$P(A^c) = 1 - P(A)$$  \n",
    "\n",
    "* For any A and B (not necessarily disjoint):     \n",
    "\n",
    "$$P(A \\cup B) = P(A) + P(B) - P(A \\cap B)$$"
   ]
  },
  {
   "cell_type": "markdown",
   "metadata": {},
   "source": [
    "## Mutually Exclusive Events\n",
    "\n",
    "Two events $A$ and $B$ are **mutually exclusive**, or **disjoint**, if $A \\cap B = \\emptyset$.  \n",
    "\n",
    "If $A$ and $B$ are mutually exclusive,  \n",
    "$$P(A \\cap B) = P(\\emptyset) = 0$$\n",
    "also,\n",
    "$$P(A \\cup B) = P(A) + P(B)$$"
   ]
  },
  {
   "cell_type": "markdown",
   "metadata": {},
   "source": [
    "## Independent Events\n",
    "\n",
    "Events A and B are ** _independent_ ** if and only if:  \n",
    "\n",
    "$$P(A \\cap B) = P(A)P(B)$$"
   ]
  },
  {
   "cell_type": "markdown",
   "metadata": {},
   "source": [
    "**Quiz**: You call 2 Ubers and 3 Lyfts. If the time that each takes to reach you is IID, what is the probability that all the Lyfts arrive first? What is the probability that all the Ubers arrive first?"
   ]
  },
  {
   "cell_type": "markdown",
   "metadata": {},
   "source": [
    "---"
   ]
  },
  {
   "cell_type": "markdown",
   "metadata": {},
   "source": [
    "**Quiz**: How many ways can you split 12 people into 3 teams of 4?  "
   ]
  },
  {
   "cell_type": "markdown",
   "metadata": {},
   "source": [
    "## Counting  \n",
    "\n",
    "If experiment $A$ has $n$ possible outcomes, and experiment $B$ has $k$ possible outcomes, then there are $nk$ possible outcomes when you perform both experiments.  \n",
    "\n",
    "### Theorem\n",
    "Given $n$ distinguishable objects, there are $n^k$ ways to choose a sample of $k$ objects **_with replacement_**.\n",
    "\n",
    "\n",
    "### Permutation\n",
    "* The number of $k$-permutations of $n$ distinguishable objects is $$^nP_k=n(n-1)(n-2)\\dots(n-k+1) = \\frac{n!}{(n-k)!}$$\n",
    "\n",
    "* The number of ways to select $k$ objects from $n$ distinct objects when different orderings constitute different choices\n",
    "\n",
    "### Combination\n",
    "\n",
    "If order doesn't matter...\n",
    "\n",
    "- The number of ways to choose $k$ objects out of $n$ distinguishable objects is $$ ^nC_k = \\binom{n}{k} = \\frac{^nP_k}{k!}=\\frac{n!}{k!(n-k)!}$$"
   ]
  },
  {
   "cell_type": "markdown",
   "metadata": {},
   "source": [
    "**Quiz**: On a dating site, users can select 5 out of 24 adjectives to describe themselves. A match is declared between two users if they match on at least 4 adjectives. If Alice and Bob randomly pick adjectives, what is the probability that they form a match?  "
   ]
  },
  {
   "cell_type": "markdown",
   "metadata": {},
   "source": [
    "---"
   ]
  },
  {
   "cell_type": "markdown",
   "metadata": {},
   "source": [
    "**Quiz**: A certain couple tells you that they have two children, at least one of which is a girl. What is the probability that they have two girls?  \n",
    "\n",
    "Hint: what is the sample space?"
   ]
  },
  {
   "cell_type": "markdown",
   "metadata": {},
   "source": [
    "## Conditional Probability  \n",
    "\n",
    "$$ P(A|B) = \\frac{P(A\\cap B)}{P(B)} $$  \n",
    "\n",
    "With this we can also write $P(A \\cap B) = P(A|B) \\times P(B)$."
   ]
  },
  {
   "cell_type": "markdown",
   "metadata": {},
   "source": [
    "## Independent Events\n",
    "\n",
    "Events A and B are ** _independent_ ** if and only if: $$P(A \\cap B) = P(A)P(B)$$\n",
    "\n",
    "Equivalently,\n",
    "\n",
    "$$ P(A|B) = P(A) $$\n",
    "$$ P(B|A) = P(B) $$\n"
   ]
  },
  {
   "cell_type": "markdown",
   "metadata": {},
   "source": [
    "## Chain Rule for Probability\n",
    "\n",
    "We can write any joint probability as incremental product of conditional probabilities,\n",
    "\n",
    "$ P(A_1 \\cap A_2) = P(A_1)P(A_2 | A_1) $\n",
    "\n",
    "\n",
    "$ P(A_1 \\cap A_2 \\cap A_3) = P(A_1)P(A_2 | A_1)P(A_3 | A_2 \\cap A_1) $\n",
    "\n",
    "\n",
    "In general, for $n$ events $A_1, A_2, \\dots, A_n$, we have  \n",
    "\n",
    "$ P (A_1 \\cap A_2 \\cap \\dots \\cap A_n) = P(A_1)P(A_2 | A_1) \\dots P(A_n | A_{n-1} \\cap \\dots \\cap A_1) $"
   ]
  },
  {
   "cell_type": "markdown",
   "metadata": {},
   "source": [
    "---"
   ]
  },
  {
   "cell_type": "markdown",
   "metadata": {},
   "source": [
    "**Quiz**: Bobo the amoeba has a 25%, 25%, and 50% chance of producing 0, 1, or 2 offspring, respectively. Each of Bobo’s descendants also have the same probabilities. What is the probability that Bobo’s lineage dies out?"
   ]
  },
  {
   "cell_type": "markdown",
   "metadata": {},
   "source": [
    "## Law of Total Probability\n",
    "\n",
    "If $B_1, B_2, \\dots, B_k$ form a partition of $\\Omega$, then $(A \\cap B_1), (A \\cap B_2), \\dots, (A \\cap B_k)$ form a partition of the set or event A.\n",
    "\n",
    "<img src=\"images/law_total_prob.png\" width=\"700\">  \n",
    "\n",
    "The probability of event A is therefore the sum of its parts: \n",
    "\n",
    "$$P(A) = P(A \\cap B_1) + P(A \\cap B_2) + P(A \\cap B_3) + P(A \\cap B_4)$$  \n",
    "\n",
    "We can also write it as,  \n",
    "\n",
    "$$ P(A) = \\sum_{i = 1}^k P(A \\cap B_i) = \\sum_{i = 1}^k P(A | B_i) P(B_i) $$"
   ]
  },
  {
   "cell_type": "markdown",
   "metadata": {},
   "source": [
    "---"
   ]
  },
  {
   "cell_type": "markdown",
   "metadata": {},
   "source": [
    "**Quiz**: You have two coins, one of which is fair and comes up heads with a probability 1/2, and the other which is biased and comes up heads with probability 3/4. You randomly pick coin and flip it twice, and get heads both times. What is the probability that you picked the fair coin?"
   ]
  },
  {
   "cell_type": "markdown",
   "metadata": {},
   "source": [
    "## Bayes' Theorem  \n",
    "\n",
    "$$ P(A|B) = \\frac{P(B|A) \\times P(A)}{P(B)} $$  \n",
    "\n",
    "By law of total probability,  \n",
    "\n",
    "$$ P(A|B) = \\frac{P(B|A) \\times P(A)}{P(B|A) \\times P(A) + P(B|A^c) \\times P(A^c)} $$"
   ]
  },
  {
   "cell_type": "markdown",
   "metadata": {},
   "source": [
    "---"
   ]
  },
  {
   "cell_type": "markdown",
   "metadata": {},
   "source": [
    "**Quiz**: You have a group of couples that decide to have children until they have their first girl, after which they stop having children. What is the expected gender ratio of the children that are born? What is the expected number of children each couple will have?  "
   ]
  },
  {
   "cell_type": "markdown",
   "metadata": {},
   "source": [
    "## Random Variables   \n",
    "\n",
    "* **Probability mass function (PMF)**: It tells us the probability that a **discrete** random variable $X$ is equal to a certain value. We define it as \n",
    "\n",
    "$$ f_X (x) = P (X = x) $$  \n",
    "\n",
    "* The **probability density function (PDF)** of a continuous random variable $X$ is defined as,  \n",
    "\n",
    "$$ f_X(x) = \\frac{dF_X}{dx} = F_X^{'}(x)$$  \n",
    "\n",
    "* **Cumulative distribution function (CDF)**: It gives us the probability that a random variable $X$ is less than or equal to a certain value. We define it as\n",
    "\n",
    "$$ F_X (x) = P( X \\leq x) $$  "
   ]
  },
  {
   "cell_type": "markdown",
   "metadata": {},
   "source": [
    "### Expectation / Mean of a Random Variable\n",
    "\n",
    "The expectation of a discrete random variable is the long-term average:\n",
    "\n",
    "$$ \\mu_X = E(X) = \\sum_x x P(X = x) = \\sum_x x f_X(x) $$\n",
    "\n",
    "For a continous random variable, we replace the PMF with the PDF, and replace $\\sum_x$ with $\\int_{-\\infty}^{\\infty}$:\n",
    "\n",
    "$$ \\mu_X = E(X) = \\int_{-\\infty}^{\\infty} x f_X(x) dx $$\n",
    "\n",
    "where $f_X(x) = F_X^{'}(x)$ is the PDF. "
   ]
  },
  {
   "cell_type": "markdown",
   "metadata": {},
   "source": [
    "### Binomial Distribution\n",
    "\n",
    "Let $X$ be the number of successes in $n$ independent Bernoulli trials each with probability of success $= p$, then $X$ has the **Binomial distribution** with parameters $n$ and $p$. We write $X \\sim Bin(n, p)$, or $X \\sim Binomial(n, p)$.\n",
    "\n",
    "**Examples**: Let $X = $ number of heads in 10 coin tosses, assuming the coin is fair, $X \\sim Bin(n = 10, p = 0.5)$.  \n",
    "\n",
    "**Probability Mass Function (PMF)**:\n",
    "$$f_X(x) = P(X = x) = \\binom{n}{x} p^x (1 - p)^{n - x} \\text{ for } x = 0, 1, \\dots, n$$\n",
    "\n",
    "**Mean**: $\\mu = np$\n",
    "\n",
    "**Variance**: $\\sigma^2 = np(1 - p) = npq$"
   ]
  },
  {
   "cell_type": "markdown",
   "metadata": {},
   "source": [
    "### Geometric Distribution\n",
    "\n",
    "Like the Binomial distribution, the Geometric distribution is defined in terms of a sequence of Bernoulli trials.  \n",
    "\n",
    "* The Binomial distribution counts the number of successes out of a fixed number of trials.\n",
    "\n",
    "* The Geometric distribution counts the number of trials until the first success occurs.\n",
    "\n",
    "\n",
    "**Geometric distribution**: When independent Bernoulli trials are repeated, each with probability $p$ of success, the number of trails $X$ it takes to get the first success has a Geometric distribution. We write $X \\sim Geometric(p)$.   \n",
    "\n",
    "**Probability Mass Function (PMF)**:\n",
    "\n",
    "$$ f_X(x) = (1 - p)^{x - 1} p = q^{x - 1} p \\text{, for } x = 1, 2, \\dots $$\n",
    "\n",
    "**Mean**: $\\mu = \\frac{1}{p}$\n",
    "\n",
    "**Variance**: $\\sigma^2 = \\frac{1 - p}{p^2}$"
   ]
  },
  {
   "cell_type": "markdown",
   "metadata": {},
   "source": [
    "### Negative Binomial Distribution\n",
    "\n",
    "When independent Bernoulli trials are repeated, each with probability $p$ of success, and $X$ is the trial number when $r$ successes are first achieved, then $X$ has a Negative Binomial distribution. We write $X \\sim NegBin(r, p)$.\n",
    "\n",
    "If $X_1, \\dots, X_k$ are independent, and each $X_i \\sim Geometric(p)$, then  \n",
    "\n",
    "$$ X_1 + \\dots + X_k \\sim NegBin(k, p) $$  \n",
    "\n",
    "**Probability Mass Function**:\n",
    "\n",
    "$$ f_X(x) = \\binom{x - 1}{r - 1} p^r (1 - p)^{x - r} \\text{, for } x = r, r + 1, \\dots $$\n",
    "\n",
    "**mean**: $\\mu = \\frac{r}{p}$\n",
    "\n",
    "**Variance**: $\\sigma^2 = \\frac{r(1 - p)}{p^2}$  "
   ]
  },
  {
   "cell_type": "markdown",
   "metadata": {},
   "source": [
    "### Poisson Distribution\n",
    "\n",
    "The **Poisson distribution** is a distribution that counts the number of random events in a fixed interval of time or space.   \n",
    "\n",
    "The **Poisson process** counts the number of events occurring in a fixed time or space, when events occur independently and at a constant average rate.  \n",
    "\n",
    "**Probability Mass Function**:\n",
    "\n",
    "$$ f_X(x) = P(X = x) = \\frac{\\lambda^x}{x!} e^{-\\lambda} \\text{ for } x = 0, 1, 2, \\dots $$\n",
    "\n",
    "**Mean**: $\\mu = \\lambda$\n",
    "\n",
    "**Variance**: $\\sigma^2 = \\lambda$  "
   ]
  },
  {
   "cell_type": "markdown",
   "metadata": {},
   "source": [
    "### Exponential Distribution\n",
    "\n",
    "The distribution of the waiting time $X$ is called the Exponential distribution because of the exponential formula for $F_X(x)$.\n",
    "\n",
    "We define the Exponential($\\lambda$) distribution to be the distribution of the waiting time (time between events) in a Poisson process with rate $\\lambda$.\n",
    "\n",
    "We write $X \\sim Exponential(\\lambda)$, or $X \\sim Exp(\\lambda)$.  \n",
    "\n",
    "**CDF**: \n",
    "$$ F_X(x) = P(X \\leq x) =\n",
    "\\begin{cases}\n",
    "    1 - e^{-\\lambda x} & \\text{for } x \\geq 0 \\\\\n",
    "    0 & \\text{for } x < 0\n",
    "\\end{cases}$$\n",
    "\n",
    "**PDF**:\n",
    "$$ f_X(x) = F_X^{'}(x) =\n",
    "\\begin{cases}\n",
    "    \\lambda e^{-\\lambda x} & \\text{for } x \\geq 0 \\\\\n",
    "    0 & \\text{for } x < 0\n",
    "\\end{cases}$$\n",
    "\n",
    "**Mean**: $\\mu_X = E(X) = \\frac{1}{\\lambda}$\n",
    "\n",
    "**Variance**: $\\sigma^2 = Var(X) = \\frac{1}{\\lambda^2}$"
   ]
  },
  {
   "cell_type": "markdown",
   "metadata": {},
   "source": [
    "### Uniform Distribution\n",
    "\n",
    "$X$ has a Uniform distribution on the interval $[a, b]$ if $X$ is equally likely to fall anywhere in the interval $[a, b]$.  \n",
    "\n",
    "We write $X \\sim Uniform(a, b)$, or $X \\sim U(a, b)$. \n",
    "\n",
    "**PDF**:\n",
    "\n",
    "$$f_X(x) = \n",
    "\\begin{cases}\n",
    "\\frac{1}{b - a} & \\text{if } a \\leq x \\leq b \\\\\n",
    "0 & \\text{otherwise}\n",
    "\\end{cases} $$\n",
    "\n",
    "**Mean and Variance**:\n",
    "\n",
    "$$ E(X) = \\frac{a + b}{2} \\text{ and } Var(X) = \\frac{(b - a)^2}{12} $$"
   ]
  },
  {
   "cell_type": "markdown",
   "metadata": {},
   "source": [
    "### Normal Distribution\n",
    "\n",
    "The **Normal distribution**, also called the **Gaussian distribution**, is probably the most important distribution in statistics. It has two parameters, the mean $\\mu$ and the variance $\\sigma^2$.  \n",
    "\n",
    "We write $X \\sim Normal(\\mu, \\sigma^2)$, or $X \\sim N(\\mu, \\sigma^2)$.  \n",
    "\n",
    "**Probability Density Function (PDF)**:\n",
    "\n",
    "$$ f(x) = \\frac{1}{\\sigma \\sqrt{2 \\pi}} exp \\left(- \\frac{(x - \\mu)^2}{2 \\sigma^2} \\right) \\text{, for } x \\in R $$\n",
    "\n",
    "**Mean**: $E(X) = \\mu$  \n",
    "\n",
    "**Variance**: $Var(X) = \\sigma^2$  "
   ]
  },
  {
   "cell_type": "markdown",
   "metadata": {},
   "source": [
    "**Quiz**: Given draws from a normal distribution with known parameters, how can you simulate draws from a uniform distribution?  "
   ]
  },
  {
   "cell_type": "markdown",
   "metadata": {},
   "source": [
    "---"
   ]
  },
  {
   "cell_type": "markdown",
   "metadata": {},
   "source": [
    "## Exercises  \n",
    "\n",
    "1) In any 15-minute interval, there is a 20% probability that you will see at least one shooting star. What is the probability that you see at least one shooting star in the period of an hour?  "
   ]
  },
  {
   "cell_type": "markdown",
   "metadata": {},
   "source": [
    "2) How can you generate a random number between 1 - 7 with only a die?  "
   ]
  },
  {
   "cell_type": "markdown",
   "metadata": {},
   "source": [
    "3) How can you get a fair coin toss if someone hands you a coin that is weighted to come up heads more often than tails?"
   ]
  },
  {
   "cell_type": "markdown",
   "metadata": {},
   "source": [
    "4) You have an 50-50 mixture of two normal distributions with the same standard deviation. How far apart do the means need to be in order for this distribution to be bimodal? Hint: [bimodal distribution](https://en.wikipedia.org/wiki/Multimodal_distribution)."
   ]
  },
  {
   "cell_type": "markdown",
   "metadata": {},
   "source": [
    "5) Your hash function assigns each object to a number between 1:10, each with equal probability. With 10 objects, what is the probability of a hash collision? What is the expected number of hash collisions? What is the expected number of hashes that are unused.  "
   ]
  },
  {
   "cell_type": "markdown",
   "metadata": {},
   "source": [
    "6) A lazy high school senior types up application and envelopes to n different colleges, but puts the applications randomly into the envelopes. What is the expected number of applications that went to the right college?  "
   ]
  },
  {
   "cell_type": "markdown",
   "metadata": {},
   "source": [
    "7) Let’s say you have a very tall father. On average, what would you expect the height of his son to be? Taller, equal, or shorter? What if you had a very short father? Hint: [Regression toward the mean](https://en.wikipedia.org/wiki/Regression_toward_the_mean)."
   ]
  },
  {
   "cell_type": "markdown",
   "metadata": {},
   "source": [
    "8) What’s the expected number of coin flips until you get two heads in a row? What’s the expected number of coin flips until you get two tails in a row?  "
   ]
  },
  {
   "cell_type": "markdown",
   "metadata": {},
   "source": [
    "9) Let’s say we play a game where I keep flipping a coin until I get heads. If the first time I get heads is on the nth coin, then I pay you 2n-1 dollars. How much would you pay me to play this game?  "
   ]
  },
  {
   "cell_type": "markdown",
   "metadata": {},
   "source": [
    "10) You have a 0.1% chance of picking up a coin with both heads, and a 99.9% chance that you pick up a fair coin. You flip your coin and it comes up heads 10 times. What’s the chance that you picked up the fair coin, given the information that you observed?  "
   ]
  }
 ],
 "metadata": {
  "anaconda-cloud": {},
  "kernelspec": {
   "display_name": "R",
   "language": "R",
   "name": "ir"
  },
  "language_info": {
   "codemirror_mode": "r",
   "file_extension": ".r",
   "mimetype": "text/x-r-source",
   "name": "R",
   "pygments_lexer": "r",
   "version": "3.3.1"
  }
 },
 "nbformat": 4,
 "nbformat_minor": 1
}
