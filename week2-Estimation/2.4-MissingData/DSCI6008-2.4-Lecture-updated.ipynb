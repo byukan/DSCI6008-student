{
 "cells": [
  {
   "cell_type": "markdown",
   "metadata": {
    "collapsed": true
   },
   "source": [
    "# Lecture 2.4: Missing Data"
   ]
  },
  {
   "cell_type": "markdown",
   "metadata": {},
   "source": [
    "## Application of EM in Missing Data  \n",
    "\n",
    "Missing data is a common problem in data analysis. When we make estimation based on incomplete data, we need to be careful with the way we handle missing data.  \n",
    "\n",
    "For example, if we want to estimate average income based on some survey results, and some of the income data is missing, can we make the estimation based on the observed income data alone?  "
   ]
  },
  {
   "cell_type": "markdown",
   "metadata": {},
   "source": [
    "### Example  \n",
    "\n",
    "We collected a set of data on annual spending on food and income from a targeted population, and we are interested in estimating the average income of that population. Here is the data:  "
   ]
  },
  {
   "cell_type": "code",
   "execution_count": 2,
   "metadata": {
    "collapsed": false
   },
   "outputs": [
    {
     "data": {
      "text/html": [
       "<table>\n",
       "<thead><tr><th></th><th scope=col>spending</th><th scope=col>income</th></tr></thead>\n",
       "<tbody>\n",
       "\t<tr><th scope=row>1</th><td> 12</td><td>103</td></tr>\n",
       "\t<tr><th scope=row>2</th><td>11</td><td>NA</td></tr>\n",
       "\t<tr><th scope=row>3</th><td> 18</td><td>133</td></tr>\n",
       "\t<tr><th scope=row>4</th><td> 14</td><td>116</td></tr>\n",
       "\t<tr><th scope=row>5</th><td>10</td><td>NA</td></tr>\n",
       "\t<tr><th scope=row>6</th><td> 14</td><td>119</td></tr>\n",
       "</tbody>\n",
       "</table>\n"
      ],
      "text/latex": [
       "\\begin{tabular}{r|ll}\n",
       "  & spending & income\\\\\n",
       "\\hline\n",
       "\t1 &  12 & 103\\\\\n",
       "\t2 & 11 & NA\\\\\n",
       "\t3 &  18 & 133\\\\\n",
       "\t4 &  14 & 116\\\\\n",
       "\t5 & 10 & NA\\\\\n",
       "\t6 &  14 & 119\\\\\n",
       "\\end{tabular}\n"
      ],
      "text/plain": [
       "  spending income\n",
       "1       12    103\n",
       "2       11     NA\n",
       "3       18    133\n",
       "4       14    116\n",
       "5       10     NA\n",
       "6       14    119"
      ]
     },
     "metadata": {},
     "output_type": "display_data"
    }
   ],
   "source": [
    "missingdata = read.csv(\"data/missingdata.csv\")\n",
    "head(missingdata)"
   ]
  },
  {
   "cell_type": "code",
   "execution_count": 7,
   "metadata": {
    "collapsed": false
   },
   "outputs": [
    {
     "data": {
      "text/html": [
       "<table>\n",
       "<thead><tr><th></th><th scope=col>spending</th><th scope=col>income</th></tr></thead>\n",
       "<tbody>\n",
       "\t<tr><th scope=row>1</th><td>12 </td><td>103</td></tr>\n",
       "\t<tr><th scope=row>2</th><td>11</td><td>NA</td></tr>\n",
       "\t<tr><th scope=row>3</th><td>18 </td><td>133</td></tr>\n",
       "\t<tr><th scope=row>4</th><td>14 </td><td>116</td></tr>\n",
       "\t<tr><th scope=row>5</th><td>10</td><td>NA</td></tr>\n",
       "\t<tr><th scope=row>6</th><td>14 </td><td>119</td></tr>\n",
       "\t<tr><th scope=row>7</th><td>NA </td><td>132</td></tr>\n",
       "\t<tr><th scope=row>8</th><td>12 </td><td>103</td></tr>\n",
       "\t<tr><th scope=row>9</th><td>16 </td><td>126</td></tr>\n",
       "\t<tr><th scope=row>10</th><td>11</td><td>NA</td></tr>\n",
       "\t<tr><th scope=row>11</th><td>13</td><td>NA</td></tr>\n",
       "\t<tr><th scope=row>12</th><td>12</td><td>NA</td></tr>\n",
       "\t<tr><th scope=row>13</th><td>16 </td><td>110</td></tr>\n",
       "\t<tr><th scope=row>14</th><td>16 </td><td>131</td></tr>\n",
       "\t<tr><th scope=row>15</th><td>19 </td><td>130</td></tr>\n",
       "\t<tr><th scope=row>16</th><td>16</td><td>NA</td></tr>\n",
       "\t<tr><th scope=row>17</th><td>16 </td><td>131</td></tr>\n",
       "\t<tr><th scope=row>18</th><td>9 </td><td>NA</td></tr>\n",
       "\t<tr><th scope=row>19</th><td>NA </td><td>123</td></tr>\n",
       "\t<tr><th scope=row>20</th><td>12 </td><td>123</td></tr>\n",
       "\t<tr><th scope=row>21</th><td>15</td><td>NA</td></tr>\n",
       "\t<tr><th scope=row>22</th><td>20</td><td>NA</td></tr>\n",
       "\t<tr><th scope=row>23</th><td>12 </td><td>119</td></tr>\n",
       "\t<tr><th scope=row>24</th><td>12</td><td>NA</td></tr>\n",
       "\t<tr><th scope=row>25</th><td>14 </td><td>124</td></tr>\n",
       "\t<tr><th scope=row>26</th><td>18 </td><td>110</td></tr>\n",
       "\t<tr><th scope=row>27</th><td>16 </td><td>133</td></tr>\n",
       "\t<tr><th scope=row>28</th><td>NA </td><td>120</td></tr>\n",
       "\t<tr><th scope=row>29</th><td>15 </td><td>111</td></tr>\n",
       "\t<tr><th scope=row>30</th><td>11</td><td>NA</td></tr>\n",
       "\t<tr><th scope=row>⋮</th><td>⋮</td><td>⋮</td></tr>\n",
       "\t<tr><th scope=row>39</th><td>11 </td><td>105</td></tr>\n",
       "\t<tr><th scope=row>40</th><td>19 </td><td>126</td></tr>\n",
       "\t<tr><th scope=row>41</th><td>12</td><td>NA</td></tr>\n",
       "\t<tr><th scope=row>42</th><td>15 </td><td>112</td></tr>\n",
       "\t<tr><th scope=row>43</th><td>NA </td><td>125</td></tr>\n",
       "\t<tr><th scope=row>44</th><td>14 </td><td>111</td></tr>\n",
       "\t<tr><th scope=row>45</th><td>12</td><td>NA</td></tr>\n",
       "\t<tr><th scope=row>46</th><td>23 </td><td>126</td></tr>\n",
       "\t<tr><th scope=row>47</th><td>18 </td><td>128</td></tr>\n",
       "\t<tr><th scope=row>48</th><td>NA </td><td>139</td></tr>\n",
       "\t<tr><th scope=row>49</th><td>16 </td><td>122</td></tr>\n",
       "\t<tr><th scope=row>50</th><td>16</td><td>NA</td></tr>\n",
       "\t<tr><th scope=row>51</th><td>16 </td><td>113</td></tr>\n",
       "\t<tr><th scope=row>52</th><td>14 </td><td>110</td></tr>\n",
       "\t<tr><th scope=row>53</th><td>20 </td><td>110</td></tr>\n",
       "\t<tr><th scope=row>54</th><td>18 </td><td>121</td></tr>\n",
       "\t<tr><th scope=row>55</th><td>14</td><td>NA</td></tr>\n",
       "\t<tr><th scope=row>56</th><td>15 </td><td>120</td></tr>\n",
       "\t<tr><th scope=row>57</th><td>NA </td><td>118</td></tr>\n",
       "\t<tr><th scope=row>58</th><td>14 </td><td>129</td></tr>\n",
       "\t<tr><th scope=row>59</th><td>7  </td><td>100</td></tr>\n",
       "\t<tr><th scope=row>60</th><td>9 </td><td>89</td></tr>\n",
       "\t<tr><th scope=row>61</th><td>12 </td><td>110</td></tr>\n",
       "\t<tr><th scope=row>62</th><td>17 </td><td>132</td></tr>\n",
       "\t<tr><th scope=row>63</th><td>13</td><td>NA</td></tr>\n",
       "\t<tr><th scope=row>64</th><td>14</td><td>NA</td></tr>\n",
       "\t<tr><th scope=row>65</th><td>22 </td><td>119</td></tr>\n",
       "\t<tr><th scope=row>66</th><td>10</td><td>NA</td></tr>\n",
       "\t<tr><th scope=row>67</th><td>12</td><td>98</td></tr>\n",
       "\t<tr><th scope=row>68</th><td>23 </td><td>151</td></tr>\n",
       "</tbody>\n",
       "</table>\n"
      ],
      "text/latex": [
       "\\begin{tabular}{r|ll}\n",
       "  & spending & income\\\\\n",
       "\\hline\n",
       "\t1 & 12  & 103\\\\\n",
       "\t2 & 11 & NA\\\\\n",
       "\t3 & 18  & 133\\\\\n",
       "\t4 & 14  & 116\\\\\n",
       "\t5 & 10 & NA\\\\\n",
       "\t6 & 14  & 119\\\\\n",
       "\t7 & NA  & 132\\\\\n",
       "\t8 & 12  & 103\\\\\n",
       "\t9 & 16  & 126\\\\\n",
       "\t10 & 11 & NA\\\\\n",
       "\t11 & 13 & NA\\\\\n",
       "\t12 & 12 & NA\\\\\n",
       "\t13 & 16  & 110\\\\\n",
       "\t14 & 16  & 131\\\\\n",
       "\t15 & 19  & 130\\\\\n",
       "\t16 & 16 & NA\\\\\n",
       "\t17 & 16  & 131\\\\\n",
       "\t18 & 9  & NA\\\\\n",
       "\t19 & NA  & 123\\\\\n",
       "\t20 & 12  & 123\\\\\n",
       "\t21 & 15 & NA\\\\\n",
       "\t22 & 20 & NA\\\\\n",
       "\t23 & 12  & 119\\\\\n",
       "\t24 & 12 & NA\\\\\n",
       "\t25 & 14  & 124\\\\\n",
       "\t26 & 18  & 110\\\\\n",
       "\t27 & 16  & 133\\\\\n",
       "\t28 & NA  & 120\\\\\n",
       "\t29 & 15  & 111\\\\\n",
       "\t30 & 11 & NA\\\\\n",
       "\t⋮ & ⋮ & ⋮\\\\\n",
       "\t39 & 11  & 105\\\\\n",
       "\t40 & 19  & 126\\\\\n",
       "\t41 & 12 & NA\\\\\n",
       "\t42 & 15  & 112\\\\\n",
       "\t43 & NA  & 125\\\\\n",
       "\t44 & 14  & 111\\\\\n",
       "\t45 & 12 & NA\\\\\n",
       "\t46 & 23  & 126\\\\\n",
       "\t47 & 18  & 128\\\\\n",
       "\t48 & NA  & 139\\\\\n",
       "\t49 & 16  & 122\\\\\n",
       "\t50 & 16 & NA\\\\\n",
       "\t51 & 16  & 113\\\\\n",
       "\t52 & 14  & 110\\\\\n",
       "\t53 & 20  & 110\\\\\n",
       "\t54 & 18  & 121\\\\\n",
       "\t55 & 14 & NA\\\\\n",
       "\t56 & 15  & 120\\\\\n",
       "\t57 & NA  & 118\\\\\n",
       "\t58 & 14  & 129\\\\\n",
       "\t59 & 7   & 100\\\\\n",
       "\t60 & 9  & 89\\\\\n",
       "\t61 & 12  & 110\\\\\n",
       "\t62 & 17  & 132\\\\\n",
       "\t63 & 13 & NA\\\\\n",
       "\t64 & 14 & NA\\\\\n",
       "\t65 & 22  & 119\\\\\n",
       "\t66 & 10 & NA\\\\\n",
       "\t67 & 12 & 98\\\\\n",
       "\t68 & 23  & 151\\\\\n",
       "\\end{tabular}\n"
      ],
      "text/plain": [
       "   spending income\n",
       "1        12    103\n",
       "2        11   <NA>\n",
       "3        18    133\n",
       "4        14    116\n",
       "5        10   <NA>\n",
       "6        14    119\n",
       "7      <NA>    132\n",
       "8        12    103\n",
       "9        16    126\n",
       "10       11   <NA>\n",
       "11       13   <NA>\n",
       "12       12   <NA>\n",
       "13       16    110\n",
       "14       16    131\n",
       "15       19    130\n",
       "16       16   <NA>\n",
       "17       16    131\n",
       "18        9   <NA>\n",
       "19     <NA>    123\n",
       "20       12    123\n",
       "21       15   <NA>\n",
       "22       20   <NA>\n",
       "23       12    119\n",
       "24       12   <NA>\n",
       "25       14    124\n",
       "26       18    110\n",
       "27       16    133\n",
       "28     <NA>    120\n",
       "29       15    111\n",
       "30       11   <NA>\n",
       "⋮         ⋮      ⋮\n",
       "39       11    105\n",
       "40       19    126\n",
       "41       12   <NA>\n",
       "42       15    112\n",
       "43     <NA>    125\n",
       "44       14    111\n",
       "45       12   <NA>\n",
       "46       23    126\n",
       "47       18    128\n",
       "48     <NA>    139\n",
       "49       16    122\n",
       "50       16   <NA>\n",
       "51       16    113\n",
       "52       14    110\n",
       "53       20    110\n",
       "54       18    121\n",
       "55       14   <NA>\n",
       "56       15    120\n",
       "57     <NA>    118\n",
       "58       14    129\n",
       "59        7    100\n",
       "60        9     89\n",
       "61       12    110\n",
       "62       17    132\n",
       "63       13   <NA>\n",
       "64       14   <NA>\n",
       "65       22    119\n",
       "66       10   <NA>\n",
       "67       12     98\n",
       "68       23    151"
      ]
     },
     "metadata": {},
     "output_type": "display_data"
    }
   ],
   "source": [
    "missingdata"
   ]
  },
  {
   "cell_type": "code",
   "execution_count": 6,
   "metadata": {
    "collapsed": false
   },
   "outputs": [
    {
     "data": {
      "image/png": "[encoded data removed]",
      "text/plain": [
       "plot without title"
      ]
     },
     "metadata": {},
     "output_type": "display_data"
    }
   ],
   "source": [
    "options(repr.plot.width = 4, repr.plot.height = 4)\n",
    "with(missingdata, plot(spending, income))"
   ]
  },
  {
   "cell_type": "code",
   "execution_count": 3,
   "metadata": {
    "collapsed": false
   },
   "outputs": [
    {
     "data": {
      "text/plain": [
       "    spending         income     \n",
       " Min.   : 7.00   Min.   : 89.0  \n",
       " 1st Qu.:12.00   1st Qu.:111.0  \n",
       " Median :14.00   Median :121.5  \n",
       " Mean   :14.52   Mean   :120.1  \n",
       " 3rd Qu.:16.00   3rd Qu.:128.8  \n",
       " Max.   :23.00   Max.   :151.0  \n",
       " NA's   :7       NA's   :22     "
      ]
     },
     "metadata": {},
     "output_type": "display_data"
    }
   ],
   "source": [
    "summary(missingdata)"
   ]
  },
  {
   "cell_type": "markdown",
   "metadata": {},
   "source": [
    "**Quiz**: The sample average of income is 120.1, can we do better? How?  "
   ]
  },
  {
   "cell_type": "markdown",
   "metadata": {},
   "source": [
    "### Multivariate Normal Distribution  \n",
    "\n",
    "The multivariate normal distribution of a k-dimensional random vector $X = (X_1, X_2, \\dots, X_k)$ can be written in the following notation:\n",
    "\n",
    "$$X \\sim N(\\mathbf{\\mu}, \\mathbf{\\Sigma}) $$  \n",
    "\n",
    "Where,  \n",
    "\n",
    "$\\mathbf{\\mu} = (\\mu_1, \\mu_2, \\dots, \\mu_k) = (E(X_1), E(X_2), \\dots, E(X_k)) $  \n",
    "\n",
    "and  \n",
    "\n",
    "$\\mathbf{\\Sigma} = [Cov(X_i, X_j)], i, j = 1, 2, \\dots, k $\n",
    "\n",
    "The PDF of a multivariate Normal distribution has the following form:  \n",
    "\n",
    "$$ f(\\mathbf{x}) = (2 \\pi)^{-\\frac{k}{2}} |\\mathbf{\\Sigma}|^{-\\frac{1}{2}}  e ^{ -\\frac{1}{2} (\\mathbf{x - \\mu})^T \\mathbf{\\Sigma}^{-1} (\\mathbf{x - \\mu})}$$  "
   ]
  },
  {
   "cell_type": "markdown",
   "metadata": {},
   "source": [
    "**Quiz**: Y is bivariate Normal - a 2-dimensional multivariate Normal, $Y \\sim N(\\mathbf{\\mu}, \\mathbf{\\Sigma}) $, with $\\mu = (0, 3)$, and  \n",
    "\n",
    "$$ \\mathbf{\\Sigma} =  \n",
    "\\begin{bmatrix}\n",
    "    4 & 2 \\\\\n",
    "    2 & 9\n",
    "\\end{bmatrix} $$  \n",
    "\n",
    "Write out the PDF for Y, and evaluate it at $\\mathbf{y} = c(2, 4)$.  "
   ]
  },
  {
   "cell_type": "markdown",
   "metadata": {},
   "source": [
    "In the income example, we can try to model the data as bivariate Normal. \n",
    "\n",
    "Let $Y_{obs}$ be the set of observed data, and $Y_{mis}$ the missing data.  \n",
    "\n",
    "$$ Y_{obs} = (y_{obs, 1}, y_{obs, 2}, \\dots, y_{obs, n}) $$  \n",
    "\n",
    "where $y_{obs, i}$ represents the set of variables observed for case $i$, $i = 1, 2, \\dots, n$.  \n",
    "\n",
    "\n",
    "The log likelihood based on the observed data is:  \n",
    "\n",
    "$$ l(\\mathbf{\\mu, \\Sigma} \\ |\\ Y_{obs}) = const - \\frac{1}{2} \\sum_{i = 1}^2 log \\left( | \\mathbf{\\Sigma}_{obs, i}| \\right) - \\frac{1}{2} \\sum_{i = 1}^n (y_{obs, i} - \\mathbf{\\mu}_{obs, i})^T \\mathbf{\\Sigma}_{obs, i}^{-1} (y_{obs, i} - \\mathbf{\\mu}_{obs, i}) $$  \n",
    "\n",
    "where $\\mathbf{\\mu}_{obs, i}$ and $\\mathbf{\\Sigma}_{obs, i}$ are the mean and covariance matrix of the observed parts of $Y$ for observation $i$.  "
   ]
  },
  {
   "cell_type": "markdown",
   "metadata": {},
   "source": [
    "To derive the EM algorithm for maximizing the log likelihood, the **E step** consists in calculating:    \n",
    "\n",
    "$$E \\left( \\sum_{i = 1}^n y_{ij} \\ | \\ Y_{obs}, \\theta^{(t)} \\right) = \\sum_{i = 1}^n y_{ij}^{(t)} \\quad j = 1, 2$$  \n",
    "\n",
    "$$E \\left( \\sum_{i = 1}^n y_{ij} y_{ik} \\ | \\ Y_{obs}, \\theta^{(t)} \\right) = \\sum_{i = 1}^n (y_{ij}^{(t)}y_{ik}^{(t)} + c_{jki}^{(t)} ) \\quad j, k = 1, 2$$  \n",
    "\n",
    "where  \n",
    "\n",
    "$$ y_{ij}^{(t)} = \\begin{cases}\n",
    "y_{ij} & \\text{if } y_{ij} \\text{ is observed} \\\\\n",
    "E(y_{ij} \\ | \\ y_{obs, i}, \\theta^{(t)}) & \\text{ if} y_{ij} \\text{ is missing} \\\\\n",
    "\\end{cases} $$  \n",
    "\n",
    "$$ c_{jki}^{(t)} = \\begin{cases}\n",
    "0 & \\text{if } y_{ij} \\text{ or } y_{ik} \\text{ is observed} \\\\\n",
    "Cov(y_{ij}, y_{ik} \\ | \\ y_{obs, i}, \\theta^{(t)}) & \\text{ if} y_{ij} \\text{ and } y_{ik} \\text{ are missing} \\\\\n",
    "\\end{cases} $$  \n",
    "\n",
    "So we are basically replacing the missing values of $y_{ij}$ with the conditional mean of $y_{ij}$ give the observed value $y_{obs, i}$ for that observation.  "
   ]
  },
  {
   "cell_type": "markdown",
   "metadata": {},
   "source": [
    "**Quiz**: If $Y = (Y_1, Y_2) \\sim N(\\mathbf{\\mu}, \\mathbf{\\Sigma})$ is a bivariate Normal random variable, with $\\mu = (0, 3)$, and  \n",
    "\n",
    "$$ \\mathbf{\\Sigma} =  \n",
    "\\begin{bmatrix}\n",
    "    4 & 2 \\\\\n",
    "    2 & 9\n",
    "\\end{bmatrix} $$  \n",
    "\n",
    "What is $E(Y1 \\ | \\ Y2 = 4)$?"
   ]
  },
  {
   "cell_type": "markdown",
   "metadata": {},
   "source": [
    "The **M step** computes the new estimates $\\theta^{(t + 1)} $ of the parameters:  \n",
    "\n",
    "$\\mu_j^{(t + 1)} = \\frac{1}{n} \\sum_{i = 1}^n y_{ij}^{(t)} $  \n",
    "\n",
    "$ \\sigma_{jk}^{(t + 1)} = \\frac{1}{n} \\sum_{i = 1}^n \\left[ (y_{ij}^{(t)} - \\mu_j^{(t + 1)})(y_{ik}^{(t)} - \\mu_k^{(t + 1)}) + c_{jki}^{(t)} \\right] $"
   ]
  },
  {
   "cell_type": "markdown",
   "metadata": {},
   "source": [
    "* For today's lab, you will implement this algorithm to estimate the average income from the sample data.  "
   ]
  },
  {
   "cell_type": "markdown",
   "metadata": {},
   "source": [
    "## Maximum a Posteriori (MAP) Estimation\n",
    "\n",
    "In Bayesian statistics, we treat the parameter $\\theta$ as a random variable, and the posterior distribution of $\\theta$ is calculated as:  \n",
    "\n",
    "$$f(\\theta \\ | \\ x) \\sim f(x \\ | \\ \\theta) f(\\theta) $$  \n",
    "\n",
    "where $f(x \\ | \\ \\theta) = L( \\theta \\ | \\ x)$ is the likelihood function of $\\theta$ given $x$, and $f(\\theta)$ is the prior distribution of $\\theta$.  \n",
    "\n",
    "We know that the MLE estimation is found by:  \n",
    "\n",
    "$$ \\hat{\\theta}_{MLE} = argmax_{\\theta} \\ f(x \\ |\\ \\theta) $$  \n",
    "\n",
    "The MAP estimation estimates $\\theta$ as the mode of the posterior distribution of $\\theta$, i.e., by maximizing the posterior distribution:  \n",
    "\n",
    "$$ \\hat{\\theta}_{MAP} = argmax_{\\theta} \\ f(\\theta \\ | \\ x) = argmax_{\\theta} \\ f(x \\ | \\ \\theta) f(\\theta) $$"
   ]
  }
 ],
 "metadata": {
  "anaconda-cloud": {},
  "kernelspec": {
   "display_name": "R",
   "language": "R",
   "name": "ir"
  },
  "language_info": {
   "codemirror_mode": "r",
   "file_extension": ".r",
   "mimetype": "text/x-r-source",
   "name": "R",
   "pygments_lexer": "r",
   "version": "3.3.1"
  }
 },
 "nbformat": 4,
 "nbformat_minor": 1
}
