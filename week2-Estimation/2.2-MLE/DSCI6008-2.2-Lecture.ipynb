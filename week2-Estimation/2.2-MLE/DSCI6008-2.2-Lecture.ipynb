{
 "cells": [
  {
   "cell_type": "markdown",
   "metadata": {},
   "source": [
    "# Lecture 2.2: Method of Moments (MOM), Maximum Likelihood Estimation (MLE)  \n",
    "\n",
    "## Outline\n",
    "\n",
    "* Likelihood  \n",
    "* Method of moments (MOM) estimation   \n",
    "* Maximum likelihood estimation (MLE)  "
   ]
  },
  {
   "cell_type": "markdown",
   "metadata": {},
   "source": [
    "---"
   ]
  },
  {
   "cell_type": "markdown",
   "metadata": {},
   "source": [
    "## Likelihood  \n",
    "\n",
    "**Quiz**: Assume the height of a black cherry tree follows a Normal distribution, $N \\sim (\\mu, \\sigma^2)$. What is the likelihood $L(\\mu, \\sigma^2)$ based on the observed data below?"
   ]
  },
  {
   "cell_type": "code",
   "execution_count": 8,
   "metadata": {
    "collapsed": false
   },
   "outputs": [
    {
     "data": {
      "text/html": [
       "<table>\n",
       "<thead><tr><th></th><th scope=col>Girth</th><th scope=col>Height</th><th scope=col>Volume</th></tr></thead>\n",
       "<tbody>\n",
       "\t<tr><th scope=row>1</th><td> 8.3</td><td>70.0</td><td>10.3</td></tr>\n",
       "\t<tr><th scope=row>2</th><td> 8.6</td><td>65.0</td><td>10.3</td></tr>\n",
       "\t<tr><th scope=row>3</th><td> 8.8</td><td>63.0</td><td>10.2</td></tr>\n",
       "\t<tr><th scope=row>4</th><td>10.5</td><td>72.0</td><td>16.4</td></tr>\n",
       "\t<tr><th scope=row>5</th><td>10.7</td><td>81.0</td><td>18.8</td></tr>\n",
       "\t<tr><th scope=row>6</th><td>10.8</td><td>83.0</td><td>19.7</td></tr>\n",
       "\t<tr><th scope=row>7</th><td>11.0</td><td>66.0</td><td>15.6</td></tr>\n",
       "\t<tr><th scope=row>8</th><td>11.0</td><td>75.0</td><td>18.2</td></tr>\n",
       "\t<tr><th scope=row>9</th><td>11.1</td><td>80.0</td><td>22.6</td></tr>\n",
       "\t<tr><th scope=row>10</th><td>11.2</td><td>75.0</td><td>19.9</td></tr>\n",
       "\t<tr><th scope=row>11</th><td>11.3</td><td>79.0</td><td>24.2</td></tr>\n",
       "\t<tr><th scope=row>12</th><td>11.4</td><td>76.0</td><td>21.0</td></tr>\n",
       "\t<tr><th scope=row>13</th><td>11.4</td><td>76.0</td><td>21.4</td></tr>\n",
       "\t<tr><th scope=row>14</th><td>11.7</td><td>69.0</td><td>21.3</td></tr>\n",
       "\t<tr><th scope=row>15</th><td>12.0</td><td>75.0</td><td>19.1</td></tr>\n",
       "\t<tr><th scope=row>16</th><td>12.9</td><td>74.0</td><td>22.2</td></tr>\n",
       "\t<tr><th scope=row>17</th><td>12.9</td><td>85.0</td><td>33.8</td></tr>\n",
       "\t<tr><th scope=row>18</th><td>13.3</td><td>86.0</td><td>27.4</td></tr>\n",
       "\t<tr><th scope=row>19</th><td>13.7</td><td>71.0</td><td>25.7</td></tr>\n",
       "\t<tr><th scope=row>20</th><td>13.8</td><td>64.0</td><td>24.9</td></tr>\n",
       "\t<tr><th scope=row>21</th><td>14.0</td><td>78.0</td><td>34.5</td></tr>\n",
       "\t<tr><th scope=row>22</th><td>14.2</td><td>80.0</td><td>31.7</td></tr>\n",
       "\t<tr><th scope=row>23</th><td>14.5</td><td>74.0</td><td>36.3</td></tr>\n",
       "\t<tr><th scope=row>24</th><td>16.0</td><td>72.0</td><td>38.3</td></tr>\n",
       "\t<tr><th scope=row>25</th><td>16.3</td><td>77.0</td><td>42.6</td></tr>\n",
       "\t<tr><th scope=row>26</th><td>17.3</td><td>81.0</td><td>55.4</td></tr>\n",
       "\t<tr><th scope=row>27</th><td>17.5</td><td>82.0</td><td>55.7</td></tr>\n",
       "\t<tr><th scope=row>28</th><td>17.9</td><td>80.0</td><td>58.3</td></tr>\n",
       "\t<tr><th scope=row>29</th><td>18.0</td><td>80.0</td><td>51.5</td></tr>\n",
       "\t<tr><th scope=row>30</th><td>18</td><td>80</td><td>51</td></tr>\n",
       "\t<tr><th scope=row>31</th><td>20.6</td><td>87.0</td><td>77.0</td></tr>\n",
       "</tbody>\n",
       "</table>\n"
      ],
      "text/latex": [
       "\\begin{tabular}{r|lll}\n",
       "  & Girth & Height & Volume\\\\\n",
       "\\hline\n",
       "\t1 &  8.3 & 70.0 & 10.3\\\\\n",
       "\t2 &  8.6 & 65.0 & 10.3\\\\\n",
       "\t3 &  8.8 & 63.0 & 10.2\\\\\n",
       "\t4 & 10.5 & 72.0 & 16.4\\\\\n",
       "\t5 & 10.7 & 81.0 & 18.8\\\\\n",
       "\t6 & 10.8 & 83.0 & 19.7\\\\\n",
       "\t7 & 11.0 & 66.0 & 15.6\\\\\n",
       "\t8 & 11.0 & 75.0 & 18.2\\\\\n",
       "\t9 & 11.1 & 80.0 & 22.6\\\\\n",
       "\t10 & 11.2 & 75.0 & 19.9\\\\\n",
       "\t11 & 11.3 & 79.0 & 24.2\\\\\n",
       "\t12 & 11.4 & 76.0 & 21.0\\\\\n",
       "\t13 & 11.4 & 76.0 & 21.4\\\\\n",
       "\t14 & 11.7 & 69.0 & 21.3\\\\\n",
       "\t15 & 12.0 & 75.0 & 19.1\\\\\n",
       "\t16 & 12.9 & 74.0 & 22.2\\\\\n",
       "\t17 & 12.9 & 85.0 & 33.8\\\\\n",
       "\t18 & 13.3 & 86.0 & 27.4\\\\\n",
       "\t19 & 13.7 & 71.0 & 25.7\\\\\n",
       "\t20 & 13.8 & 64.0 & 24.9\\\\\n",
       "\t21 & 14.0 & 78.0 & 34.5\\\\\n",
       "\t22 & 14.2 & 80.0 & 31.7\\\\\n",
       "\t23 & 14.5 & 74.0 & 36.3\\\\\n",
       "\t24 & 16.0 & 72.0 & 38.3\\\\\n",
       "\t25 & 16.3 & 77.0 & 42.6\\\\\n",
       "\t26 & 17.3 & 81.0 & 55.4\\\\\n",
       "\t27 & 17.5 & 82.0 & 55.7\\\\\n",
       "\t28 & 17.9 & 80.0 & 58.3\\\\\n",
       "\t29 & 18.0 & 80.0 & 51.5\\\\\n",
       "\t30 & 18 & 80 & 51\\\\\n",
       "\t31 & 20.6 & 87.0 & 77.0\\\\\n",
       "\\end{tabular}\n"
      ],
      "text/plain": [
       "   Girth Height Volume\n",
       "1    8.3     70   10.3\n",
       "2    8.6     65   10.3\n",
       "3    8.8     63   10.2\n",
       "4   10.5     72   16.4\n",
       "5   10.7     81   18.8\n",
       "6   10.8     83   19.7\n",
       "7   11.0     66   15.6\n",
       "8   11.0     75   18.2\n",
       "9   11.1     80   22.6\n",
       "10  11.2     75   19.9\n",
       "11  11.3     79   24.2\n",
       "12  11.4     76   21.0\n",
       "13  11.4     76   21.4\n",
       "14  11.7     69   21.3\n",
       "15  12.0     75   19.1\n",
       "16  12.9     74   22.2\n",
       "17  12.9     85   33.8\n",
       "18  13.3     86   27.4\n",
       "19  13.7     71   25.7\n",
       "20  13.8     64   24.9\n",
       "21  14.0     78   34.5\n",
       "22  14.2     80   31.7\n",
       "23  14.5     74   36.3\n",
       "24  16.0     72   38.3\n",
       "25  16.3     77   42.6\n",
       "26  17.3     81   55.4\n",
       "27  17.5     82   55.7\n",
       "28  17.9     80   58.3\n",
       "29  18.0     80   51.5\n",
       "30  18.0     80   51.0\n",
       "31  20.6     87   77.0"
      ]
     },
     "metadata": {},
     "output_type": "display_data"
    }
   ],
   "source": [
    "data()\n",
    "trees"
   ]
  },
  {
   "cell_type": "markdown",
   "metadata": {},
   "source": [
    "* If $X_1, \\dots, X_n$ are i.i.d. (independently, identically distributed) sample from a population with PDF or PMF $f(x | \\theta_1, \\dots, \\theta_k)$, the likelihood function is defined by\n",
    "\n",
    "$$L(\\theta | \\textbf{x}) = L(\\theta_1, \\dots, \\theta_k | x_1, \\dots, x_n) = \\prod_{i = 1}^n f(x_i | \\theta_1, \\dots, \\theta_k) $$  \n"
   ]
  },
  {
   "cell_type": "markdown",
   "metadata": {},
   "source": [
    "### Difference between the likelihood function and the probability mass function\n",
    "\n",
    "* The likelihood function is a **FUNCTION of the unknown parameters**.  \n",
    "\n",
    "\n",
    "* The likelihood gives the probability of a **FIXED** observation $x$, for every possible value of the parameter.  \n",
    "\n",
    "\n",
    "* The probability function gives the probability of every different value of $x$, for a **FIXED** value of the parameter."
   ]
  },
  {
   "cell_type": "markdown",
   "metadata": {},
   "source": [
    "---"
   ]
  },
  {
   "cell_type": "markdown",
   "metadata": {},
   "source": [
    "## Method of Moments (MOM)  \n",
    "\n",
    "**Quiz**: I flipped a coin 10 times, and got 7 heads. What is the MOM estimate for the probablity of success (getting a head)?"
   ]
  },
  {
   "cell_type": "markdown",
   "metadata": {},
   "source": [
    "### What are moments? \n",
    "\n",
    "The $k^{th}$ **raw moment** of a random variable $X$ is defined to be $E(X^k)$ assuming that $E(|X|^k) < \\infty$.\n",
    "\n",
    "e.g.\n",
    "\n",
    "* The $1^{st}$ moment of $X$: $\\mu_1 = E(X)$\n",
    "* The $2^{nd}$ moment of $X$: $\\mu_2 = E(X^2)$\n",
    "* The $3^{rd}$ moment of $X$: $\\mu_3 = E(X^3)$\n",
    "* $\\dots$\n",
    "\n",
    "Note:\n",
    "\n",
    "$$\\mu = E(X)$$  \n",
    "\n",
    "\n",
    "$$\\sigma^2 = E(X^2) - (E(X))^2$$"
   ]
  },
  {
   "cell_type": "markdown",
   "metadata": {},
   "source": [
    "The true/population raw moments can not be observed, but we can estimate them by the **sample moments**:  \n",
    "\n",
    "$$ \\hat{\\mu}_1 = \\frac{1}{n} \\sum_{i = 1}^n X_i $$\n",
    "$$ \\hat{\\mu}_2 = \\frac{1}{n} \\sum_{i = 1}^n X_i^2 $$\n",
    "$$ \\vdots $$\n",
    "$$ \\hat{\\mu}_k = \\frac{1}{n} \\sum_{i = 1}^n X_i^k $$\n",
    "$$ \\vdots $$  "
   ]
  },
  {
   "cell_type": "markdown",
   "metadata": {},
   "source": [
    "**Moment estimators**\n",
    "\n",
    "\n",
    "* Suppose we have a sample, $X_1, \\dots, X_n$ from a population with PDF or PMF $f(x | \\theta_1, \\dots, \\theta_k)$, and we want to estimate the $k$ parameters of the population (the $\\theta_i$'s).  \n",
    "\n",
    "\n",
    "* Method of moments estimators are found by equating the first $k$ sample moments to the corresponding $k$ population moments, and solve the system of equations."
   ]
  },
  {
   "cell_type": "markdown",
   "metadata": {},
   "source": [
    "In the coin example, $X \\sim Binomial(n = 10, p)$, the first population moments is:  \n",
    "\n",
    "$$ \\mu_1 = E(X) = np = 10p$$  \n",
    "\n",
    "The corresponding sample moment can be obtained by:\n",
    "\n",
    "$$\\hat{\\mu}_1 = \\bar{X} = 7 $$\n",
    "\n",
    "Equating the two, we have:\n",
    "\n",
    "$$ 10\\hat{p} = 7 $$  \n",
    "$$ \\hat{p} = 7/10 $$"
   ]
  },
  {
   "cell_type": "markdown",
   "metadata": {},
   "source": [
    "**Advantages of MOM**\n",
    "\n",
    "* Simple to calculate\n",
    "* Consistent (if we keep increasing the sample size, we eventually obtain accurate estimates)\n",
    "\n",
    "**Disadvantages of MOM**\n",
    "\n",
    "* Often biased (more on biasness later today)\n",
    "* Sometimes gives estimates outside the parameter space"
   ]
  },
  {
   "cell_type": "markdown",
   "metadata": {},
   "source": [
    "---"
   ]
  },
  {
   "cell_type": "markdown",
   "metadata": {},
   "source": [
    "# Maximum Likelihood Estimation (MLE)  \n",
    "\n",
    "**Quiz**: How would you find the MLE for the probablity of success (getting a head) for the coin example?"
   ]
  },
  {
   "cell_type": "markdown",
   "metadata": {},
   "source": [
    "### Maximum Likelihood Estimation (MLE)\n",
    "\n",
    "\n",
    "* Recall that if $X_1, \\dots, X_n$ are i.i.d. (independently, identically distributed) sample from a population with PDF or PMF $f(x | \\theta_1, \\dots, \\theta_k)$, the likelihood function is defined by\n",
    "\n",
    "$$L(\\theta | \\textbf{x}) = L(\\theta_1, \\dots, \\theta_k | x_1, \\dots, x_n) = \\prod_{i = 1}^n f(x_i | \\theta_1, \\dots, \\theta_k) $$  \n",
    "\n",
    "* Definition: For each sample $\\textbf{x}$, let $\\hat{\\theta}(\\textbf{x})$ be a parameter value at which $L(\\theta | \\textbf{x})$ attains its maximum as a function of $\\theta$, with $\\textbf{x}$ fixed. A **maximum likelihood estimator (MLE)** of the parameter $\\theta$ based on a sample $\\textbf{X}$ is $\\hat{\\theta}(\\textbf{X})$.  \n",
    "\n",
    "* We sometimes write $L(\\theta | \\textbf{x})$ as $L(\\theta)$, and $\\hat{\\theta}(\\textbf{x})$ as $\\hat{\\theta}$."
   ]
  },
  {
   "cell_type": "markdown",
   "metadata": {},
   "source": [
    "The likelihood function for the coin example is:\n",
    "\n",
    "$$ \\begin{align*}\n",
    "     L(p) &= P(X = 7) \\text{ when } X \\sim Binomial(10, p) \\\\\n",
    "          &= \\binom{10}{7} p^7 (1 - p)^{10 - 7} \\\\\n",
    "          &= \\binom{10}{7} p^7 (1 - p)^3\n",
    "   \\end{align*} $$"
   ]
  },
  {
   "cell_type": "markdown",
   "metadata": {},
   "source": [
    "### The Log-likelihood Function\n",
    "\n",
    "If we take the natural logarithm of the likelihood function, we get the **log-likelihood** function.  \n",
    "\n",
    "$$l(p) = log(L(p))$$\n",
    "\n",
    "For our coin example,\n",
    "\n",
    "$$ \\begin{align*}\n",
    "     l(p) &= L(p) \\\\\n",
    "          &= log\\left( \\binom{10}{7} p^7 (1 - p)^3 \\right) \\\\\n",
    "          &= log \\binom{10}{7} + 7 log(p) + 3 log(1 - p)\n",
    "   \\end{align*} $$\n",
    "\n",
    "Note: The $log \\binom{10}{7}$ is usually dropped since it is just a constant and does not affect the value that maximizes the function (we only care about the terms that involve $p$)."
   ]
  },
  {
   "cell_type": "markdown",
   "metadata": {},
   "source": [
    "### Finding the Maximum of the Log-likelihood Function  \n",
    "\n",
    "To find the maximizing value of $p$, we first differentiate the log-likelihood with respect to $p$:\n",
    "\n",
    "$$ \\begin{align*}\n",
    "     \\frac{dl}{dp} &= 7 (\\frac{1}{p}) + 3 (\\frac{1}{1 - p}) \\\\\n",
    "                   &= \\frac{7}{p} + \\frac{3}{1 - p}\n",
    "   \\end{align*} $$\n",
    "   \n",
    "The maximizing value of $p$ occurs when  \n",
    "\n",
    "$$ \\frac{dl}{dp} = 0 $$\n",
    "\n",
    "This gives us  \n",
    "\n",
    "$$ \\frac{dl}{dp} = \\frac{7}{p} - \\frac{3}{1 - p} = 0 $$  \n",
    "\n",
    "$$ \\Rightarrow \\hat{p} = 0.7 $$"
   ]
  },
  {
   "cell_type": "markdown",
   "metadata": {},
   "source": [
    "---"
   ]
  },
  {
   "cell_type": "markdown",
   "metadata": {},
   "source": [
    "### Exerciese  \n",
    "\n",
    "1) Find the MOM estimate and the MLE for $(\\mu, \\sigma^2)$ in the cherry tree example."
   ]
  },
  {
   "cell_type": "code",
   "execution_count": 10,
   "metadata": {
    "collapsed": false
   },
   "outputs": [
    {
     "data": {
      "text/html": [
       "<table>\n",
       "<thead><tr><th></th><th scope=col>Girth</th><th scope=col>Height</th><th scope=col>Volume</th></tr></thead>\n",
       "<tbody>\n",
       "\t<tr><th scope=row>1</th><td> 8.3</td><td>70.0</td><td>10.3</td></tr>\n",
       "\t<tr><th scope=row>2</th><td> 8.6</td><td>65.0</td><td>10.3</td></tr>\n",
       "\t<tr><th scope=row>3</th><td> 8.8</td><td>63.0</td><td>10.2</td></tr>\n",
       "\t<tr><th scope=row>4</th><td>10.5</td><td>72.0</td><td>16.4</td></tr>\n",
       "\t<tr><th scope=row>5</th><td>10.7</td><td>81.0</td><td>18.8</td></tr>\n",
       "\t<tr><th scope=row>6</th><td>10.8</td><td>83.0</td><td>19.7</td></tr>\n",
       "\t<tr><th scope=row>7</th><td>11.0</td><td>66.0</td><td>15.6</td></tr>\n",
       "\t<tr><th scope=row>8</th><td>11.0</td><td>75.0</td><td>18.2</td></tr>\n",
       "\t<tr><th scope=row>9</th><td>11.1</td><td>80.0</td><td>22.6</td></tr>\n",
       "\t<tr><th scope=row>10</th><td>11.2</td><td>75.0</td><td>19.9</td></tr>\n",
       "\t<tr><th scope=row>11</th><td>11.3</td><td>79.0</td><td>24.2</td></tr>\n",
       "\t<tr><th scope=row>12</th><td>11.4</td><td>76.0</td><td>21.0</td></tr>\n",
       "\t<tr><th scope=row>13</th><td>11.4</td><td>76.0</td><td>21.4</td></tr>\n",
       "\t<tr><th scope=row>14</th><td>11.7</td><td>69.0</td><td>21.3</td></tr>\n",
       "\t<tr><th scope=row>15</th><td>12.0</td><td>75.0</td><td>19.1</td></tr>\n",
       "\t<tr><th scope=row>16</th><td>12.9</td><td>74.0</td><td>22.2</td></tr>\n",
       "\t<tr><th scope=row>17</th><td>12.9</td><td>85.0</td><td>33.8</td></tr>\n",
       "\t<tr><th scope=row>18</th><td>13.3</td><td>86.0</td><td>27.4</td></tr>\n",
       "\t<tr><th scope=row>19</th><td>13.7</td><td>71.0</td><td>25.7</td></tr>\n",
       "\t<tr><th scope=row>20</th><td>13.8</td><td>64.0</td><td>24.9</td></tr>\n",
       "\t<tr><th scope=row>21</th><td>14.0</td><td>78.0</td><td>34.5</td></tr>\n",
       "\t<tr><th scope=row>22</th><td>14.2</td><td>80.0</td><td>31.7</td></tr>\n",
       "\t<tr><th scope=row>23</th><td>14.5</td><td>74.0</td><td>36.3</td></tr>\n",
       "\t<tr><th scope=row>24</th><td>16.0</td><td>72.0</td><td>38.3</td></tr>\n",
       "\t<tr><th scope=row>25</th><td>16.3</td><td>77.0</td><td>42.6</td></tr>\n",
       "\t<tr><th scope=row>26</th><td>17.3</td><td>81.0</td><td>55.4</td></tr>\n",
       "\t<tr><th scope=row>27</th><td>17.5</td><td>82.0</td><td>55.7</td></tr>\n",
       "\t<tr><th scope=row>28</th><td>17.9</td><td>80.0</td><td>58.3</td></tr>\n",
       "\t<tr><th scope=row>29</th><td>18.0</td><td>80.0</td><td>51.5</td></tr>\n",
       "\t<tr><th scope=row>30</th><td>18</td><td>80</td><td>51</td></tr>\n",
       "\t<tr><th scope=row>31</th><td>20.6</td><td>87.0</td><td>77.0</td></tr>\n",
       "</tbody>\n",
       "</table>\n"
      ],
      "text/latex": [
       "\\begin{tabular}{r|lll}\n",
       "  & Girth & Height & Volume\\\\\n",
       "\\hline\n",
       "\t1 &  8.3 & 70.0 & 10.3\\\\\n",
       "\t2 &  8.6 & 65.0 & 10.3\\\\\n",
       "\t3 &  8.8 & 63.0 & 10.2\\\\\n",
       "\t4 & 10.5 & 72.0 & 16.4\\\\\n",
       "\t5 & 10.7 & 81.0 & 18.8\\\\\n",
       "\t6 & 10.8 & 83.0 & 19.7\\\\\n",
       "\t7 & 11.0 & 66.0 & 15.6\\\\\n",
       "\t8 & 11.0 & 75.0 & 18.2\\\\\n",
       "\t9 & 11.1 & 80.0 & 22.6\\\\\n",
       "\t10 & 11.2 & 75.0 & 19.9\\\\\n",
       "\t11 & 11.3 & 79.0 & 24.2\\\\\n",
       "\t12 & 11.4 & 76.0 & 21.0\\\\\n",
       "\t13 & 11.4 & 76.0 & 21.4\\\\\n",
       "\t14 & 11.7 & 69.0 & 21.3\\\\\n",
       "\t15 & 12.0 & 75.0 & 19.1\\\\\n",
       "\t16 & 12.9 & 74.0 & 22.2\\\\\n",
       "\t17 & 12.9 & 85.0 & 33.8\\\\\n",
       "\t18 & 13.3 & 86.0 & 27.4\\\\\n",
       "\t19 & 13.7 & 71.0 & 25.7\\\\\n",
       "\t20 & 13.8 & 64.0 & 24.9\\\\\n",
       "\t21 & 14.0 & 78.0 & 34.5\\\\\n",
       "\t22 & 14.2 & 80.0 & 31.7\\\\\n",
       "\t23 & 14.5 & 74.0 & 36.3\\\\\n",
       "\t24 & 16.0 & 72.0 & 38.3\\\\\n",
       "\t25 & 16.3 & 77.0 & 42.6\\\\\n",
       "\t26 & 17.3 & 81.0 & 55.4\\\\\n",
       "\t27 & 17.5 & 82.0 & 55.7\\\\\n",
       "\t28 & 17.9 & 80.0 & 58.3\\\\\n",
       "\t29 & 18.0 & 80.0 & 51.5\\\\\n",
       "\t30 & 18 & 80 & 51\\\\\n",
       "\t31 & 20.6 & 87.0 & 77.0\\\\\n",
       "\\end{tabular}\n"
      ],
      "text/plain": [
       "   Girth Height Volume\n",
       "1    8.3     70   10.3\n",
       "2    8.6     65   10.3\n",
       "3    8.8     63   10.2\n",
       "4   10.5     72   16.4\n",
       "5   10.7     81   18.8\n",
       "6   10.8     83   19.7\n",
       "7   11.0     66   15.6\n",
       "8   11.0     75   18.2\n",
       "9   11.1     80   22.6\n",
       "10  11.2     75   19.9\n",
       "11  11.3     79   24.2\n",
       "12  11.4     76   21.0\n",
       "13  11.4     76   21.4\n",
       "14  11.7     69   21.3\n",
       "15  12.0     75   19.1\n",
       "16  12.9     74   22.2\n",
       "17  12.9     85   33.8\n",
       "18  13.3     86   27.4\n",
       "19  13.7     71   25.7\n",
       "20  13.8     64   24.9\n",
       "21  14.0     78   34.5\n",
       "22  14.2     80   31.7\n",
       "23  14.5     74   36.3\n",
       "24  16.0     72   38.3\n",
       "25  16.3     77   42.6\n",
       "26  17.3     81   55.4\n",
       "27  17.5     82   55.7\n",
       "28  17.9     80   58.3\n",
       "29  18.0     80   51.5\n",
       "30  18.0     80   51.0\n",
       "31  20.6     87   77.0"
      ]
     },
     "metadata": {},
     "output_type": "display_data"
    }
   ],
   "source": [
    "trees"
   ]
  },
  {
   "cell_type": "markdown",
   "metadata": {},
   "source": [
    "2) We will revisit the stock market data:"
   ]
  },
  {
   "cell_type": "code",
   "execution_count": 20,
   "metadata": {
    "collapsed": false
   },
   "outputs": [
    {
     "data": {
      "text/plain": [
       "      Year           Lag1                Lag2                Lag3          \n",
       " Min.   :2001   Min.   :-4.922000   Min.   :-4.922000   Min.   :-4.922000  \n",
       " 1st Qu.:2002   1st Qu.:-0.639500   1st Qu.:-0.639500   1st Qu.:-0.640000  \n",
       " Median :2003   Median : 0.039000   Median : 0.039000   Median : 0.038500  \n",
       " Mean   :2003   Mean   : 0.003834   Mean   : 0.003919   Mean   : 0.001716  \n",
       " 3rd Qu.:2004   3rd Qu.: 0.596750   3rd Qu.: 0.596750   3rd Qu.: 0.596750  \n",
       " Max.   :2005   Max.   : 5.733000   Max.   : 5.733000   Max.   : 5.733000  \n",
       "      Lag4                Lag5              Volume           Today          \n",
       " Min.   :-4.922000   Min.   :-4.92200   Min.   :0.3561   Min.   :-4.922000  \n",
       " 1st Qu.:-0.640000   1st Qu.:-0.64000   1st Qu.:1.2574   1st Qu.:-0.639500  \n",
       " Median : 0.038500   Median : 0.03850   Median :1.4229   Median : 0.038500  \n",
       " Mean   : 0.001636   Mean   : 0.00561   Mean   :1.4783   Mean   : 0.003138  \n",
       " 3rd Qu.: 0.596750   3rd Qu.: 0.59700   3rd Qu.:1.6417   3rd Qu.: 0.596750  \n",
       " Max.   : 5.733000   Max.   : 5.73300   Max.   :3.1525   Max.   : 5.733000  \n",
       " Direction \n",
       " Down:602  \n",
       " Up  :648  \n",
       "           \n",
       "           \n",
       "           \n",
       "           "
      ]
     },
     "metadata": {},
     "output_type": "display_data"
    }
   ],
   "source": [
    "library(ISLR)\n",
    "summary(Smarket)"
   ]
  },
  {
   "cell_type": "markdown",
   "metadata": {},
   "source": [
    "Assume the following logistic regression model:  \n",
    "\n",
    "$$ P(Direction = Up) = p = \\frac{exp(\\beta_0 + \\beta_1 Volume)}{1 + exp(\\beta_0 + \\beta_1 Volume)} $$  \n",
    "\n",
    "Find the MLE for $\\beta_0$ and $\\beta_1$ without using any built-in function/library. You may find this [paper](http://czep.net/stat/mlelr.pdf) helpful."
   ]
  },
  {
   "cell_type": "code",
   "execution_count": null,
   "metadata": {
    "collapsed": true
   },
   "outputs": [],
   "source": []
  }
 ],
 "metadata": {
  "anaconda-cloud": {},
  "kernelspec": {
   "display_name": "R",
   "language": "R",
   "name": "ir"
  },
  "language_info": {
   "codemirror_mode": "r",
   "file_extension": ".r",
   "mimetype": "text/x-r-source",
   "name": "R",
   "pygments_lexer": "r",
   "version": "3.3.1"
  }
 },
 "nbformat": 4,
 "nbformat_minor": 1
}
