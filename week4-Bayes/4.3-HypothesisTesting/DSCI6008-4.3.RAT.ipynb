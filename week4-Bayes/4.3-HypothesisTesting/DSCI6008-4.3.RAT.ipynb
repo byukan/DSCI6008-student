{
 "cells": [
  {
   "cell_type": "markdown",
   "metadata": {},
   "source": [
    "# RAT 4.3\n",
    "\n",
    "1. What is the primary conceptual difference between a MAP and MLE estimate?\n",
    "\n",
    "2. A manufacturer of metal pistons finds that on the average, 12% of his pistons are rejected (hint: either 1 or 0) because they are either oversize or undersize. What is the probability that a batch of 10 pistons will contain at least two rejects?\n",
    "\n",
    "3. Advanced: What is the most likely number of pistons that are rejected out of a batch of 10?\n",
    "\n",
    "4. Advanced: What is the most believable number of pistons rejected out of a batch of 20 given that the last 10 had 3 defects?"
   ]
  }
 ],
 "metadata": {
  "kernelspec": {
   "display_name": "Python 3",
   "language": "python",
   "name": "python3"
  },
  "language_info": {
   "codemirror_mode": {
    "name": "ipython",
    "version": 3
   },
   "file_extension": ".py",
   "mimetype": "text/x-python",
   "name": "python",
   "nbconvert_exporter": "python",
   "pygments_lexer": "ipython3",
   "version": "3.3.5"
  }
 },
 "nbformat": 4,
 "nbformat_minor": 0
}
