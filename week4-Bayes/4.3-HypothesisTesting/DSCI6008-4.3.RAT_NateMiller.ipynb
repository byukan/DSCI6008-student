{
 "cells": [
  {
   "cell_type": "markdown",
   "metadata": {},
   "source": [
    "# RAT 4.3\n",
    "\n",
    "1. What is the primary conceptual difference between a MAP and MLE estimate?\n",
    "\n",
    "2. A manufacturer of metal pistons finds that on the average, 12% of his pistons are rejected (hint: either 1 or 0) because they are either oversize or undersize. What is the probability that a batch of 10 pistons will contain at least two rejects?\n",
    "\n",
    "3. Advanced: What is the most likely number of pistons that are rejected out of a batch of 10?\n",
    "\n",
    "4. Advanced: What is the most believable number of pistons rejected out of a batch of 20 given that the last 10 had 3 defects?"
   ]
  },
  {
   "cell_type": "markdown",
   "metadata": {},
   "source": [
    "1. The difference between MAP and MLE is that the MLE only utilizes the likelihood whereas MAP includes a the prior (the data) as well as the likelihood."
   ]
  },
  {
   "cell_type": "code",
   "execution_count": null,
   "metadata": {
    "collapsed": true
   },
   "outputs": [],
   "source": [
    "2. 10 choose 2 * (0.12**2) * (0.88**8)"
   ]
  },
  {
   "cell_type": "code",
   "execution_count": 9,
   "metadata": {
    "collapsed": false
   },
   "outputs": [
    {
     "data": {
      "text/plain": [
       "0.23304317207398317"
      ]
     },
     "execution_count": 9,
     "metadata": {},
     "output_type": "execute_result"
    }
   ],
   "source": [
    "45 * (0.12**2) * (0.88**8)"
   ]
  },
  {
   "cell_type": "markdown",
   "metadata": {},
   "source": [
    "3. E(θ | x)= x+1/n+2   (2 + 1) / (10 +2) = 3/12 = 1/4 so out of 10, expected = 2.5"
   ]
  },
  {
   "cell_type": "code",
   "execution_count": null,
   "metadata": {
    "collapsed": true
   },
   "outputs": [],
   "source": [
    "4. "
   ]
  }
 ],
 "metadata": {
  "anaconda-cloud": {},
  "kernelspec": {
   "display_name": "Python [default]",
   "language": "python",
   "name": "python3"
  },
  "language_info": {
   "codemirror_mode": {
    "name": "ipython",
    "version": 3
   },
   "file_extension": ".py",
   "mimetype": "text/x-python",
   "name": "python",
   "nbconvert_exporter": "python",
   "pygments_lexer": "ipython3",
   "version": "3.5.2"
  }
 },
 "nbformat": 4,
 "nbformat_minor": 0
}
