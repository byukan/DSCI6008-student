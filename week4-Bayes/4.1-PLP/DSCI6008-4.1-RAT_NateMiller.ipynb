{
 "cells": [
  {
   "cell_type": "markdown",
   "metadata": {},
   "source": [
    "# RAT 6  \n",
    "\n",
    "1) In A/B testing, if it's not reasonable to assume that the test statistic follows a known distribusion, i.e. we can't use the standard t-tests or z-tests, what are some alternative ways to perform the test?  "
   ]
  },
  {
   "cell_type": "markdown",
   "metadata": {},
   "source": [
    "Alternatives involve resampling the data with replacement many times to generate a distribution and then calculate the probabablity of being in the 'tail' of the distribution using an alpha level of your choice (0.05). For example sample 1000 times from your distribution (possibly not enough) and then calculate the probability of getting  value greater then 975 or less than 25."
   ]
  },
  {
   "cell_type": "markdown",
   "metadata": {},
   "source": [
    "2) What are some alternatives to A/B testing? Give at least one alternative strategy and explain why you would want to use it instead of A/B tests.  "
   ]
  },
  {
   "cell_type": "markdown",
   "metadata": {},
   "source": [
    "Running a multiarm bandit or similar bayesian method for doing AB testing allows you to peek at the results and update the experiment on the fly. This will save time, and allows you to dynamically respond to the results as they come in."
   ]
  }
 ],
 "metadata": {
  "anaconda-cloud": {},
  "kernelspec": {
   "display_name": "Python [conda env:py3_nlp]",
   "language": "python",
   "name": "conda-env-py3_nlp-py"
  },
  "language_info": {
   "codemirror_mode": {
    "name": "ipython",
    "version": 3
   },
   "file_extension": ".py",
   "mimetype": "text/x-python",
   "name": "python",
   "nbconvert_exporter": "python",
   "pygments_lexer": "ipython3",
   "version": "3.5.1"
  }
 },
 "nbformat": 4,
 "nbformat_minor": 0
}
