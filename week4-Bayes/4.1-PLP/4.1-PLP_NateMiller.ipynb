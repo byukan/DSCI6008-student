{
 "cells": [
  {
   "cell_type": "markdown",
   "metadata": {},
   "source": [
    "# DSCI6008b 4.1-Prior, Likelihood and Posterior\n"
   ]
  },
  {
   "cell_type": "markdown",
   "metadata": {},
   "source": [
    "\n",
    "## Sample Space vs. Outcome Space\n",
    "\n",
    "As data scientists, we are called to produce accurate descriptions of the systems and processes that we are trying to describe. To continue, it's important to create a clear discussion of the process that produces the data we analyze.\n",
    "\n",
    "**Sample space** should be thought of as the total output of a system to a single sampled variable. This sampled variable can be as simple as a single-point measurement or the outcome of a complex experiment. \n",
    "\n",
    "**Outcome space** or the **set of Events** is the acutal measured output of the above-mentioned variable. \n",
    "\n",
    "### Further discussion of Sample space using formulas here\n",
    "\n",
    "\n",
    "#### Exercise:\n",
    "How many samples are required to guarantee that we have a complete sampling of a distribution?\n",
    "\n",
    "## Bayes vs. Classical Statistics\n",
    "\n",
    "**Frequentist (or classical) statistics** is the science of trying to make reasonable and permanent statements (models) about the black box and validating (or falsifying) these statements based on measurements of the event space. For normally distributed variables, this turns out to be a relatively sound design, due to the separability of the normal distribution. In practice, we study the data, generate a new model based on these studies, and validate the model with subsequent measurements. This is the common practice of producing expectation values and estimators. We bind these expectation values within **confidence intervals** in order ro\n",
    "\n",
    "As the shape of the underlying distribution becomes more complex, making clear statements about the black box becomes more difficult and requires a great deal of work. Furthermore, it is difficult to forecast changes in the underlying distribution if the distribution itself is changing during the measurement process. Either of these two conditions can occur if the actual causal diagram of the hidden black box is complex. \n",
    "\n",
    "#### The Bayes law hypothesis\n",
    "\n",
    "Bayesian statistics directly avoids making strong statements about the black box, choosing to make predictions about the system in terms of past observations. In order to do so, the variables of the model are themselves considered to be distributions. In otherwords a Frequentist models the black box with specific claims about the variables and assumes random noise within the collection of data. A Bayesian chooses a single model that describes the **variables themselves** as distributions. Any future prediction of a variable value is based on observations of the variable as well as an description of the current parameters of the model. \n",
    "\n",
    "### Objective vs. Subjective Bayesian Interpretations\n",
    "\n",
    "Bayesian perspectives come in two flavors: subjectivist and objectivist. The subjectivist has the least in common with a frequentist statistician, where they actually believe that the variables themselves are distributions, and thus the ground truth itself is a distribution. An objectivist believes that there is a single static ground truth, as the frequentist does, but flaws in collection and analysis (noise) leads us to need approximations in order to describe it. You will have to decide for yourself what you are.\n",
    "\n",
    "\n",
    "## Prior, Likelihood, and Posterior\n",
    "\n",
    "We typically write Bayes' law as follows:\n",
    "\n",
    "$$P(B\\ |\\ A) = \\dfrac{P(A\\ |\\ B)P(B)}{P(A)}$$\n",
    "\n",
    "We **say** Bayes' law:\n",
    "\n",
    "The probability of event B occuring **given** event A is equal to the probability of event A occuring **given** B multiplied by the probability of observing event B and divided by the probability of observing event A.\n",
    "\n",
    "Another way to say Bayes' law:\n",
    "\n",
    "The **posterior probability** of B given A is the product of the **prior probability** of A given B and the **likelihood** of observing B.\n",
    "\n",
    "These phrases and concepts are often presented in a relatively matter-of-fact and uninteresting way. We will elaborate on them a great deal here. Bayesian analysis focuses on the concept of **belief** in and **credibility** of a given hypothesis (model) rather than claims of **confidence**."
   ]
  },
  {
   "cell_type": "markdown",
   "metadata": {},
   "source": [
    "## The Posterior\n",
    "\n",
    "The **posterior** is simply the left side of Bayes' equation. It is an inferential statement about our  beliefs about what the *next measurement of the variable B will be, conditioned on the next measurement of A.* Predictive distributions including the posterior and prior predictive are covered in the following lecture.\n"
   ]
  },
  {
   "cell_type": "markdown",
   "metadata": {},
   "source": [
    "## The Likelihood\n",
    "\n",
    "$$P(A\\ |\\ B)$$\n",
    "\n",
    "The word \"likelihood\" is often used as a synonym for \"probability\", and can often be thought of this way. However, as Bayesians, we are always describing a system in two states:\n",
    "\n",
    "1. The system as we **believe** it to be before data is collected.\n",
    "2. The system as we **believe** it likely to be **after** data is collected.\n",
    "\n",
    "in describing likelihood \"probability\" is meant to be used before data are available about the system, whereas \"likelihood\" is intended to describe our **beliefs** about the variable after data has been gathered.\n",
    "\n",
    "This follows from the **diachronic interpretation** of Bayes' law:\n",
    "\n",
    "Given $p(H)$, the probability of the hypothesis before seeing the data, find $p(H|D)$, the probability of seeing the hypothesis after seeing the data.\n",
    "\n",
    "### Choosing a likelihood function for a model\n",
    "\n",
    "The likelihood function that you choose should be chosen specifically based on the quantity that you are trying to model.\n",
    "\n",
    "#### Example :\n",
    "\n",
    "If we are trying to predict a sequence of $n$ coin flips with $m$ heads (discussed below), our likelihood should be based on the binomial distribution:\n",
    "\n",
    "$$L(S) = p_{heads}^{m}(1-p_{heads})^{n-m}$$\n",
    "\n",
    "This has to be chosen carefully in order to guarantee that your model makes sense.\n",
    "\n",
    "\n",
    "**Note that you cannot interpret the likelihood of a hypothesis given evidence as the probability of the hypothesis being true!**"
   ]
  },
  {
   "cell_type": "markdown",
   "metadata": {},
   "source": [
    "## Prior\n",
    "\n",
    "The prior is a distribution function describing the total probability of observing a given variable (or parameter) the next time that variable is measured.\n",
    "\n",
    "A number of methods can be used to create priors:\n",
    "\n",
    "1. Past information, such as previous experiments. (most common)\n",
    "2. Expert analysis (research) will reveal an expected prior. (common)\n",
    "3. An **uninformative** prior can be created to reflect a balance among potential outcomes when no information is available.\n",
    "4. Priors can also be chosen according to some principle, such as symmetry or maximizing entropy, given constraints. (Machine learning)\n",
    "\n",
    "Priors come in two flavors.\n",
    "\n",
    "\n",
    "### Informative Priors:\n",
    "\n",
    "Informative priors are often the province of subjective Bayesians, or problems that have an understandable expected outcome and where the number of samples are relatively limited. These are usually equations that make a clear description of a distribution of hypotheses. These are typically chosen to be representative of the likelihood function. \n",
    "\n",
    "### Uninformative Priors:\n",
    "\n",
    "Uninformative priors are more the province of objective Bayesians, and are useful in the case where many samples are available, or where the analyst wishes to avoid making assumptions about the system. The most common uninformative prior is the uniform $P(x) = \\dfrac{1}{b-a}$ distribution. \n"
   ]
  },
  {
   "cell_type": "markdown",
   "metadata": {},
   "source": [
    "## The Four Formulations of Bayes Law\n",
    "\n",
    "Bayes' law comes in various forms dependent on whether or not variables are continuous (probability distribution function or PDF) or discrete (probability mass function or PMF). This is an important distinction.\n",
    "\n",
    "### Two Discrete Variables: \n",
    "\n",
    "$$p_{B|A}(b\\ |\\ a) = \\dfrac{p_{A\\ |\\ B}(a\\ |\\ b)p_{B}(b)}{\\sum_{b}p_{A\\ |\\ B}(a\\ |\\ b)p_{B}(b)}$$\n",
    "\n",
    "**Example:**\n",
    "\n",
    "$ B \\in \\{0, 1\\} $ airplane is present\n",
    "\n",
    "$ A \\in \\{0, 1\\} $ airplane detected on radar\n",
    "\n",
    "### Two Continuous Variables:\n",
    "\n",
    "$$f_{B|A}(b\\ |\\ a) = \\dfrac{f_{A\\ |\\ B}(a\\ |\\ b)f_{B}(b)}{\\int_{b}f_{A\\ |\\ B}(a\\ |\\ b)f_{B}(b)db}$$\n",
    "\n",
    "$$f(a) = \\int_{b}f_{A\\ |\\ B}(a\\ |\\ b)f_{B}(b)db$$\n",
    "\n",
    "Note that the integral needs to exist over the whole event space of B.\n",
    "\n",
    "#### **Example:**\n",
    "\n",
    "$ B \\in \\{0, 1\\} $ airplane is present\n",
    "\n",
    "$ A \\in \\{0, 1\\} $ airplane detected on radar\n",
    "\n",
    "\n",
    "### Discrete A, Continuous B\n",
    "\n",
    "$$f_{B|A}(b\\ |\\ a) = \\dfrac{p_{A\\ |\\ B}(a\\ |\\ b)f_{B}(b)}{\\sum_{b}p_{A\\ |\\ B}(a\\ |\\ b)f_{B}(b)db}$$\n",
    "\n",
    "$$p(a) = \\int_{b}p_{A\\ |\\ B}(a\\ |\\ b)f_{B}(b)db$$\n",
    "\n",
    "#### **Example:**\n",
    "\n",
    "A: a discrete signal, i.e. number of sales per sales unit.\n",
    "\n",
    "B: a continuous signal, i.e. sales profit per sales unit.\n",
    "\n",
    "### Continuous A, Discrete B\n",
    "\n",
    "$$p_{B|A}(b\\ |\\ a) = \\dfrac{f_{A\\ |\\ B}(a\\ |\\ b)p_{B}(b)}{\\int_{b}f_{A\\ |\\ B}(a\\ |\\ b)p_{B}(b)db}$$\n",
    "\n",
    "$$f(a) = \\sum_{b}f_{A\\ |\\ B}(a\\ |\\ b)p_{B}(b)db$$\n",
    "\n",
    "#### **Example:**\n",
    "\n",
    "A: A continuous signal, i.e. distance walked per day.\n",
    "\n",
    "B: A discrete signal, i.e. Number of cars bought per year.\n"
   ]
  },
  {
   "cell_type": "markdown",
   "metadata": {},
   "source": [
    "## Bayesian Updating\n",
    "\n",
    "### Coin Toss (simple)\n",
    "\n",
    "(https://ocw.mit.edu/courses/mathematics/18-05-introduction-to-probability-and-statistics-spring-2014/readings/MIT18_05S14_Reading11.pdf)\n",
    "\n",
    "#### Question\n",
    "\n",
    "Suppose that we have three different types of coins:\n",
    "\n",
    "A: Fair; %50 chance that this coin will come up heads \n",
    "B: Biased; %60 chance that this coin will come up heads\n",
    "C: Weighted (Biased); %90 chance that this coin will come up heads\n",
    "\n",
    "All coins appear visually to be identical.\n",
    "\n",
    "Lets's say that I have a group of these coins in a drawer, 2 of type A, 5 of type B, and 1 of type C. I grab a coin at random and flip it, getting a head. What is the probability that it is type A, B, or C?\n",
    "\n",
    "#### Answer\n",
    "\n",
    "Set A, B, and C be the event that we draw one of these types. Set H to mean the event heads or T for tails.\n",
    "\n",
    "Now we compute for the below likelihoods:\n",
    "\n",
    "P(A|H), P(B|H), P(C|H)\n",
    "\n",
    "These represent our beliefs upon the first piece of data that we have a coin of the respective type.\n",
    "\n",
    "**Hypothesis:** Coin belongs to A, B, or C.\n",
    "\n",
    "**Experiment:** We get H\n",
    "\n",
    "**Prior:** These are our beliefs about what the coin could be **prior** to tossing the coin and getting an outcome. **Note:** Once we pull a coin from the drawer, our outcome space changes *unless we are holding the same coin or put the coin back*!!\n",
    "\n",
    "P(A) = 0.25, P(B) = 0.625, P(C) = 0.125\n",
    "\n",
    "**Likelihood:** This is the \"likelihood\" (probability) of the data assuming the given hypothesis is true. In most Bayesian update schema (but not always), the likelihood is fixed and the hypothesis (prior) changes.\n",
    "\n",
    "P(H|A) = 0.5, P(H|B) = 0.6 P(H|C) = 0.9\n",
    "\n",
    "**Posterior:** We then use Bayes' law to compute the posterior...\n",
    "\n",
    "$$ P(A\\ |\\ H) = \\dfrac{P(H\\ |\\ A)P(A)}{P(H)}$$\n",
    "\n",
    "$$ P(A\\ |\\ H) = \\dfrac{0.5 * 0.25}{0.5*0.25+0.6*0.625+0.9*0.125} = 0.20$$\n",
    "\n",
    "$$ P(B\\ |\\ H) = \\dfrac{0.6 * 0.625}{0.5*0.25+0.6*0.625+0.9*0.125} = 0.61$$\n",
    "\n",
    "$$ P(C\\ |\\ H) = \\dfrac{0.9 * 0.25}{0.5*0.25+0.6*0.625+0.9*0.125} = 0.18$$\n",
    "\n",
    "**Bayesian update 1:**\n",
    "\n",
    "In this critical step, we now change the old posterior to the new prior, not changing our likelihoods. This makes sense because we are only changing our belief that the coin we took belongs to one of the three classes. The likelihood that we would get any result doesn't change (in this case). \n",
    "\n",
    "**Hypothesis:** Coin belongs to A, B, or C.\n",
    "\n",
    "**Experiment:** We get H\n",
    "\n",
    "**Prior:**\n",
    "\n",
    "P(A) = 0.20, P(B) = 0.61, P(C) = 0.18\n",
    "\n",
    "**Likelihood:** \n",
    "\n",
    "P(H|A) = 0.5, P(H|B) = 0.6 P(H|C) = 0.9\n",
    "\n",
    "**Posterior:** We then use Bayes' law to compute the posterior...\n",
    "\n",
    "$$ P(A\\ |\\ H) = \\dfrac{P(H\\ |\\ A)P(A)}{P(H)}$$\n",
    "\n",
    "$$ P(A\\ |\\ H) = \\dfrac{0.5 * 0.20}{0.5*0.20+0.6*0.61+0.9*0.18} = 0.16$$\n",
    "\n",
    "$$ P(B\\ |\\ H) = \\dfrac{0.6 * 0.61}{0.5*0.20+0.6*0.61+0.9*0.18} = 0.58$$\n",
    "\n",
    "$$ P(C\\ |\\ H) = \\dfrac{0.9 * 0.18}{0.5*0.20+0.6*0.61+0.9*0.18} = 0.26$$"
   ]
  },
  {
   "cell_type": "markdown",
   "metadata": {},
   "source": [
    "### Exercise:\n",
    "\n",
    "Calculate the next bayesian update if we perform the same experiment and get a T. How do we plot the likelihoods? Are they the same as the PMF?\n",
    "\n",
    "#### Advanced:\n",
    "\n",
    "Concieve of this as a machine learning model. What are the parameters we are trying to learn? Where are they being learned?"
   ]
  },
  {
   "cell_type": "code",
   "execution_count": 18,
   "metadata": {
    "collapsed": false
   },
   "outputs": [
    {
     "data": {
      "text/plain": [
       "0.23668639053254437"
      ]
     },
     "execution_count": 18,
     "metadata": {},
     "output_type": "execute_result"
    }
   ],
   "source": [
    "pa = (0.5 * 0.16)/((0.5*0.16)+(0.4*0.58)+(0.1*0.26))\n",
    "pa"
   ]
  },
  {
   "cell_type": "code",
   "execution_count": 19,
   "metadata": {
    "collapsed": false
   },
   "outputs": [
    {
     "data": {
      "text/plain": [
       "0.6863905325443787"
      ]
     },
     "execution_count": 19,
     "metadata": {},
     "output_type": "execute_result"
    }
   ],
   "source": [
    "pb = (0.4 * 0.58)/((0.5*0.16)+(0.4*0.58)+(0.1*0.26))\n",
    "pb"
   ]
  },
  {
   "cell_type": "code",
   "execution_count": 20,
   "metadata": {
    "collapsed": false
   },
   "outputs": [
    {
     "data": {
      "text/plain": [
       "0.07692307692307693"
      ]
     },
     "execution_count": 20,
     "metadata": {},
     "output_type": "execute_result"
    }
   ],
   "source": [
    "pc = (0.1 * 0.26)/((0.5*0.16)+(0.4*0.58)+(0.1*0.26))\n",
    "pc"
   ]
  },
  {
   "cell_type": "markdown",
   "metadata": {},
   "source": [
    "----\n",
    "Coin Flip and Bayesian Updating \n",
    "----\n",
    "\n",
    "(http://nbviewer.jupyter.org/github/tfolkman/learningwithdata/blob/master/Bayes_Primer.ipynb)\n",
    "\n",
    "The below code provides a simulation of a coin flip given a specific bias and performs Bayesian updates for every step. "
   ]
  },
  {
   "cell_type": "code",
   "execution_count": 25,
   "metadata": {
    "collapsed": false
   },
   "outputs": [
    {
     "data": {
      "image/png": "[encoded data removed]",
      "text/plain": [
       "<matplotlib.figure.Figure at 0x11da913c8>"
      ]
     },
     "metadata": {},
     "output_type": "display_data"
    }
   ],
   "source": [
    "import scipy.stats as st\n",
    "import numpy as np\n",
    "import matplotlib.pyplot as plt\n",
    "import seaborn as sns\n",
    "%matplotlib inline\n",
    "\n",
    "\n",
    "def bern_post(n_params=100, n_sample=100, true_p=.8, prior_p=.5, n_prior=100):\n",
    "    params = np.linspace(0, 1, n_params)\n",
    "    sample = np.random.binomial(n=1, p=true_p, size=n_sample)\n",
    "    likelihood = np.array([np.product(st.bernoulli.pmf(sample, p)) for p in params])\n",
    "    prior_sample = np.random.binomial(n=1, p=prior_p, size=n_prior)\n",
    "    prior = np.array([np.product(st.bernoulli.pmf(prior_sample, p)) for p in params])\n",
    "    prior = prior / np.sum(prior)\n",
    "    posterior = [prior[i] * likelihood[i] for i in range(prior.shape[0])]\n",
    "    posterior = posterior / np.sum(posterior)\n",
    "\n",
    "    fig, axes = plt.subplots(3, 1, sharex=True, figsize=(8,8))\n",
    "    axes[0].plot(params, likelihood)\n",
    "    axes[0].set_title(\"Sampling Distribution\")\n",
    "    axes[1].plot(params, prior)\n",
    "    axes[1].set_title(\"Prior Distribution\")\n",
    "    axes[2].plot(params, posterior)\n",
    "    axes[2].set_title(\"Posterior Distribution\")\n",
    "    plt.tight_layout()\n",
    "\n",
    "bern_post(n_sample=1000)\n"
   ]
  },
  {
   "cell_type": "markdown",
   "metadata": {},
   "source": [
    "## Urn Problems\n",
    "\n",
    "Urn problems are among the most common of simple Bayesian problems that you will encounter in interviews. They are always of the following format:\n",
    "\n",
    "Given N Urns (or Bags or Jars), there are $K \\in \\left\\{X_{1} \\cdots X_{i}\\right \\} $ different possible choices of object. You pick an urn at random and withdraw an object. It is choice $X_{i}$. Which urn did it come from?\n",
    "\n",
    "You are likely very familiar now with the cookie problem. Since the cookie problem is so trivial, I will pose a less trivial problem.\n",
    "\n",
    "\n",
    "### The M&M problem\n",
    "\n",
    "     The blue M&M was introduced in 1995.  Before then, the color mix in a bag of plain M&Ms was (30% Brown, 20% Yellow, 20% Red, 10% Green, 10% Orange, 10% Tan).  Afterward it was (24% Blue , 20% Green, 16% Orange, 14% Yellow, 13% Red, 13% Brown). \n",
    "\n",
    "    A friend of mine has two bags of M&Ms, and he tells me that one is from 1994 and one from 1996.  He won't tell me which is which, but he gives me one M&M from EACH bag.  One is yellow and one is green.  What is the probability that the yellow M&M came from the 1994 bag?\n",
    "\n",
    "**Hypothesis:**\n",
    "\n",
    "A: Bag #1 from 1994 and Bag #2 from 1996\n",
    "B: Bag #1 from 1996 and Bag #2 from 1994\n",
    "\n",
    "**Priors:**\n",
    "\n",
    "Again, P(A) = P(B) = 1/2.\n",
    "\n",
    "**Event:**\n",
    "\n",
    "$$ E \\in \\left[ Y, G \\right]$$\n",
    "\n",
    "**Likelihoods:**\n",
    "\n",
    "We get the likelihoods by using the above list and multiplying the probabilities for the two M&Ms:\n",
    "\n",
    "$$P(Y,G|A) = (0.2)(0.2)$$\n",
    "$$P(Y,G|B) = (0.1)(0.14)$$\n",
    "\n",
    "\n",
    "Plugging the likelihoods and the priors into Bayes's theorem, we get\n",
    "\n",
    "$$P(A|Y,G) = P(Y,G|A)P(A)/P(Y,G) = (0.2)(0.2)(0.5)/(0.2*0.2*0.5 + 0.1*0.14*0.5) = 0.74$$\n",
    "\n",
    "$$P(B|Y,G) = P(Y,G|B)P(B)/P(Y,G) = (0.1)(0.14)(0.5)/(0.2*0.2*0.5 + 0.1*0.14*0.5) = 0.26$$\n",
    "\n",
    "So it is significantly more likely that this yellow M&M comes from the 1994 bag.\n",
    "\n",
    "#### Advanced:\n",
    "\n",
    "In what ways is this an approximation? How would we revise our belief if we were told that an M&M was pulled from the same bag and it was brown?"
   ]
  },
  {
   "cell_type": "markdown",
   "metadata": {},
   "source": [
    "### Exercise\n",
    "\n",
    "#### Three Urns\n",
    "\n",
    "You have three jars, each with a mix of [red, white] balls:\n",
    "\n",
    "U1: [40, 20]\n",
    "\n",
    "U2: [30, 30]\n",
    "\n",
    "U3: [5, 15]\n",
    "\n",
    "You choose an jar at random and select three balls from it. The sequence of balls you get are [white, white, red]. Which urn do you believe that you most likely chose?\n"
   ]
  },
  {
   "cell_type": "markdown",
   "metadata": {},
   "source": [
    "### Answer:\n",
    "\n",
    "As a solution along the lines of the M&M problem, we can decompose the problem into likelihoods representative of the fractions of balls in each urn:\n",
    "\n",
    "P(W, W, R|U1) = (20/60)(19/59)(40/58) = 0.07\n",
    "\n",
    "P(W, W, R|U2) = (30/60)(29/59)(30/58) = 0.13\n",
    "\n",
    "P(W, W, R|U3) = (15/20)(14/19)(5/18) = 0.15\n",
    "\n",
    "\n",
    "Already we can see that the last urn is probably the highest likelhood urn:\n",
    "\n",
    "P(U1|W, W, R) = 0.21\n",
    "P(U2|W, W, R) = 0.36\n",
    "P(U3|W, W, R) = P(W, W, R|U3)P(U3)/P(W,W,R) = 0.15*0.33/(0.07*0.33+0.13*0.33+0.15*0.33) = 0.44"
   ]
  },
  {
   "cell_type": "markdown",
   "metadata": {
    "collapsed": true
   },
   "source": [
    "## Outcome Problems\n",
    "\n",
    "Outcome problems often show up on interviews as stumpers. You'll be given a handful of facts and expected to make an estimate about how to solve it. There's no way to predict when these show up, but we can show how you work through them.\n",
    "\n",
    "#### Exercise\n",
    "\n",
    "A woman shows up to the hospital with a cough and is diagnosed with lung cancer. What is the probability that she is a smoker? According to the CDC, ``Compared to nonsmokers, men who smoke are about 23 times more likely to develop lung cancer and women who smoke are about 13 times more likely.'' You can check with the [CDC](http://www.cdc.gov/tobacco/data_statistics/fact_sheets/adult_data/cig_smoking/index.htm) to find out how many women smoke.\n",
    "\n"
   ]
  },
  {
   "cell_type": "markdown",
   "metadata": {},
   "source": [
    "#### Answer\n",
    "\n",
    "This requires tip-of-the-tongue familiarity with Bayes' law. Start off by writing the Bayes' law you need.\n",
    "\n",
    "$$ p(\\text{smoker}\\ |\\ \\text{female}, \\text{cancer} ) = \\dfrac{p(\\text{cancer}\\ |\\ \\text{female}, \\text{smoker}  )p(\\text{female},\\text{smoker})}{p(\\text{female}, \\text{cancer})}$$\n",
    "\n",
    "After a few seconds of thought, we see that $p(\\text{cancer}\\ |\\ \\text{female}, \\text{smoker} ) = 13x$ where x is a base rate of women getting cancer (technically $p(\\text{cancer})$). The fraction of women who smoke: $ p(\\text{female},\\text{smoker})$, we will leave as $y$. Therefore the fraction of women who don't smoke is $1-y$. The total fraction of women that get cancer must be: $13xy+x(1-y)$ Using Bayes' law:\n",
    "\n",
    "$$ p(\\text{smoker}\\ |\\ \\text{female}, \\text{cancer} ) = \\dfrac{13xy}{13xy+x(1-y)}$$\n",
    "\n",
    "The $x$s cancel:\n",
    "\n",
    "$$ p(\\text{smoker}\\ |\\ \\text{female}, \\text{cancer} ) = \\dfrac{13y}{13y+(1-y)}$$\n",
    "\n",
    "What should that value $y$ be? You can check with the [CDC](http://www.cdc.gov/tobacco/data_statistics/fact_sheets/adult_data/cig_smoking/index.htm). You can find that this number should be 14.8%. We can plug that in and find out that:\n",
    "\n",
    "$$ \\dfrac{13y}{13y+(1-y)} = 69% $$\n",
    "\n",
    "That'a pretty startling number."
   ]
  },
  {
   "cell_type": "code",
   "execution_count": null,
   "metadata": {
    "collapsed": true
   },
   "outputs": [],
   "source": []
  }
 ],
 "metadata": {
  "anaconda-cloud": {},
  "kernelspec": {
   "display_name": "Python [conda env:py3_nlp]",
   "language": "python",
   "name": "conda-env-py3_nlp-py"
  },
  "language_info": {
   "codemirror_mode": {
    "name": "ipython",
    "version": 3
   },
   "file_extension": ".py",
   "mimetype": "text/x-python",
   "name": "python",
   "nbconvert_exporter": "python",
   "pygments_lexer": "ipython3",
   "version": "3.5.1"
  }
 },
 "nbformat": 4,
 "nbformat_minor": 0
}
