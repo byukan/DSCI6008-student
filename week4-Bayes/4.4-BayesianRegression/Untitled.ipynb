{
 "cells": [
  {
   "cell_type": "code",
   "execution_count": 5,
   "metadata": {
    "collapsed": true
   },
   "outputs": [],
   "source": [
    "import pymc3 as pm\n",
    "import pandas as pd\n",
    "import numpy as np\n",
    "import matplotlib.pyplot as plt\n",
    "%matplotlib inline"
   ]
  },
  {
   "cell_type": "markdown",
   "metadata": {},
   "source": []
  },
  {
   "cell_type": "code",
   "execution_count": 11,
   "metadata": {
    "collapsed": true
   },
   "outputs": [],
   "source": [
    "df = pd.read_table('./election_data.txt',delim_whitespace = True)"
   ]
  },
  {
   "cell_type": "code",
   "execution_count": 18,
   "metadata": {
    "collapsed": true
   },
   "outputs": [
    {
     "data": {
      "text/html": [
       "<div>\n",
       "<table border=\"1\" class=\"dataframe\">\n",
       "  <thead>\n",
       "    <tr style=\"text-align: right;\">\n",
       "      <th></th>\n",
       "      <th>t</th>\n",
       "      <th>VP</th>\n",
       "      <th>VC</th>\n",
       "      <th>I</th>\n",
       "      <th>DPER</th>\n",
       "      <th>DUR</th>\n",
       "      <th>WAR</th>\n",
       "      <th>G</th>\n",
       "      <th>P</th>\n",
       "      <th>Z</th>\n",
       "    </tr>\n",
       "  </thead>\n",
       "  <tbody>\n",
       "    <tr>\n",
       "      <th>1</th>\n",
       "      <td>1880</td>\n",
       "      <td>49.780</td>\n",
       "      <td>na</td>\n",
       "      <td>-1</td>\n",
       "      <td>0</td>\n",
       "      <td>-1.75</td>\n",
       "      <td>0</td>\n",
       "      <td>3.879</td>\n",
       "      <td>1.974</td>\n",
       "      <td>9</td>\n",
       "    </tr>\n",
       "    <tr>\n",
       "      <th>2</th>\n",
       "      <td>1884</td>\n",
       "      <td>50.154</td>\n",
       "      <td>na</td>\n",
       "      <td>-1</td>\n",
       "      <td>0</td>\n",
       "      <td>-2.00</td>\n",
       "      <td>0</td>\n",
       "      <td>1.589</td>\n",
       "      <td>1.055</td>\n",
       "      <td>2</td>\n",
       "    </tr>\n",
       "    <tr>\n",
       "      <th>3</th>\n",
       "      <td>1888</td>\n",
       "      <td>50.414</td>\n",
       "      <td>na</td>\n",
       "      <td>1</td>\n",
       "      <td>1</td>\n",
       "      <td>0.00</td>\n",
       "      <td>0</td>\n",
       "      <td>-5.553</td>\n",
       "      <td>0.604</td>\n",
       "      <td>3</td>\n",
       "    </tr>\n",
       "    <tr>\n",
       "      <th>4</th>\n",
       "      <td>1892</td>\n",
       "      <td>51.732</td>\n",
       "      <td>na</td>\n",
       "      <td>-1</td>\n",
       "      <td>-1</td>\n",
       "      <td>0.00</td>\n",
       "      <td>0</td>\n",
       "      <td>2.763</td>\n",
       "      <td>2.274</td>\n",
       "      <td>7</td>\n",
       "    </tr>\n",
       "    <tr>\n",
       "      <th>5</th>\n",
       "      <td>1896</td>\n",
       "      <td>47.760</td>\n",
       "      <td>48.081</td>\n",
       "      <td>1</td>\n",
       "      <td>0</td>\n",
       "      <td>0.00</td>\n",
       "      <td>0</td>\n",
       "      <td>-10.024</td>\n",
       "      <td>3.410</td>\n",
       "      <td>6</td>\n",
       "    </tr>\n",
       "    <tr>\n",
       "      <th>6</th>\n",
       "      <td>1900</td>\n",
       "      <td>46.829</td>\n",
       "      <td>46.604</td>\n",
       "      <td>-1</td>\n",
       "      <td>-1</td>\n",
       "      <td>0.00</td>\n",
       "      <td>0</td>\n",
       "      <td>-1.425</td>\n",
       "      <td>2.548</td>\n",
       "      <td>7</td>\n",
       "    </tr>\n",
       "    <tr>\n",
       "      <th>7</th>\n",
       "      <td>1904</td>\n",
       "      <td>39.994</td>\n",
       "      <td>43.659</td>\n",
       "      <td>-1</td>\n",
       "      <td>-1</td>\n",
       "      <td>-1.00</td>\n",
       "      <td>0</td>\n",
       "      <td>-2.421</td>\n",
       "      <td>1.442</td>\n",
       "      <td>5</td>\n",
       "    </tr>\n",
       "    <tr>\n",
       "      <th>8</th>\n",
       "      <td>1908</td>\n",
       "      <td>45.517</td>\n",
       "      <td>48.107</td>\n",
       "      <td>-1</td>\n",
       "      <td>0</td>\n",
       "      <td>-1.25</td>\n",
       "      <td>0</td>\n",
       "      <td>-6.281</td>\n",
       "      <td>1.879</td>\n",
       "      <td>8</td>\n",
       "    </tr>\n",
       "    <tr>\n",
       "      <th>9</th>\n",
       "      <td>1912</td>\n",
       "      <td>45.292</td>\n",
       "      <td>57.111</td>\n",
       "      <td>-1</td>\n",
       "      <td>-1</td>\n",
       "      <td>-1.50</td>\n",
       "      <td>0</td>\n",
       "      <td>4.164</td>\n",
       "      <td>2.172</td>\n",
       "      <td>8</td>\n",
       "    </tr>\n",
       "    <tr>\n",
       "      <th>10</th>\n",
       "      <td>1916</td>\n",
       "      <td>51.682</td>\n",
       "      <td>48.881</td>\n",
       "      <td>1</td>\n",
       "      <td>1</td>\n",
       "      <td>0.00</td>\n",
       "      <td>0</td>\n",
       "      <td>2.229</td>\n",
       "      <td>4.252</td>\n",
       "      <td>3</td>\n",
       "    </tr>\n",
       "    <tr>\n",
       "      <th>11</th>\n",
       "      <td>1920</td>\n",
       "      <td>36.148</td>\n",
       "      <td>37.957</td>\n",
       "      <td>1</td>\n",
       "      <td>0</td>\n",
       "      <td>1.00</td>\n",
       "      <td>1</td>\n",
       "      <td>-11.463</td>\n",
       "      <td>0.000</td>\n",
       "      <td>0</td>\n",
       "    </tr>\n",
       "    <tr>\n",
       "      <th>12</th>\n",
       "      <td>1924</td>\n",
       "      <td>41.737</td>\n",
       "      <td>42.093</td>\n",
       "      <td>-1</td>\n",
       "      <td>-1</td>\n",
       "      <td>0.00</td>\n",
       "      <td>0</td>\n",
       "      <td>-3.872</td>\n",
       "      <td>5.161</td>\n",
       "      <td>10</td>\n",
       "    </tr>\n",
       "    <tr>\n",
       "      <th>13</th>\n",
       "      <td>1928</td>\n",
       "      <td>41.244</td>\n",
       "      <td>42.838</td>\n",
       "      <td>-1</td>\n",
       "      <td>0</td>\n",
       "      <td>-1.00</td>\n",
       "      <td>0</td>\n",
       "      <td>4.623</td>\n",
       "      <td>0.183</td>\n",
       "      <td>7</td>\n",
       "    </tr>\n",
       "    <tr>\n",
       "      <th>14</th>\n",
       "      <td>1932</td>\n",
       "      <td>59.149</td>\n",
       "      <td>56.874</td>\n",
       "      <td>-1</td>\n",
       "      <td>-1</td>\n",
       "      <td>-1.25</td>\n",
       "      <td>0</td>\n",
       "      <td>-14.350</td>\n",
       "      <td>6.928</td>\n",
       "      <td>4</td>\n",
       "    </tr>\n",
       "    <tr>\n",
       "      <th>15</th>\n",
       "      <td>1936</td>\n",
       "      <td>62.226</td>\n",
       "      <td>58.476</td>\n",
       "      <td>1</td>\n",
       "      <td>1</td>\n",
       "      <td>0.00</td>\n",
       "      <td>0</td>\n",
       "      <td>11.682</td>\n",
       "      <td>2.498</td>\n",
       "      <td>9</td>\n",
       "    </tr>\n",
       "    <tr>\n",
       "      <th>16</th>\n",
       "      <td>1940</td>\n",
       "      <td>54.983</td>\n",
       "      <td>52.967</td>\n",
       "      <td>1</td>\n",
       "      <td>1</td>\n",
       "      <td>1.00</td>\n",
       "      <td>0</td>\n",
       "      <td>3.913</td>\n",
       "      <td>0.051</td>\n",
       "      <td>8</td>\n",
       "    </tr>\n",
       "    <tr>\n",
       "      <th>17</th>\n",
       "      <td>1944</td>\n",
       "      <td>53.778</td>\n",
       "      <td>51.718</td>\n",
       "      <td>1</td>\n",
       "      <td>1</td>\n",
       "      <td>1.25</td>\n",
       "      <td>1</td>\n",
       "      <td>4.122</td>\n",
       "      <td>0.000</td>\n",
       "      <td>0</td>\n",
       "    </tr>\n",
       "    <tr>\n",
       "      <th>18</th>\n",
       "      <td>1948</td>\n",
       "      <td>52.319</td>\n",
       "      <td>53.190</td>\n",
       "      <td>1</td>\n",
       "      <td>1</td>\n",
       "      <td>1.50</td>\n",
       "      <td>1</td>\n",
       "      <td>3.214</td>\n",
       "      <td>0.000</td>\n",
       "      <td>0</td>\n",
       "    </tr>\n",
       "    <tr>\n",
       "      <th>19</th>\n",
       "      <td>1952</td>\n",
       "      <td>44.710</td>\n",
       "      <td>49.944</td>\n",
       "      <td>1</td>\n",
       "      <td>0</td>\n",
       "      <td>1.75</td>\n",
       "      <td>0</td>\n",
       "      <td>0.997</td>\n",
       "      <td>2.353</td>\n",
       "      <td>7</td>\n",
       "    </tr>\n",
       "    <tr>\n",
       "      <th>20</th>\n",
       "      <td>1956</td>\n",
       "      <td>42.906</td>\n",
       "      <td>50.970</td>\n",
       "      <td>-1</td>\n",
       "      <td>-1</td>\n",
       "      <td>0.00</td>\n",
       "      <td>0</td>\n",
       "      <td>-1.252</td>\n",
       "      <td>1.907</td>\n",
       "      <td>5</td>\n",
       "    </tr>\n",
       "    <tr>\n",
       "      <th>21</th>\n",
       "      <td>1960</td>\n",
       "      <td>50.087</td>\n",
       "      <td>54.790</td>\n",
       "      <td>-1</td>\n",
       "      <td>0</td>\n",
       "      <td>-1.00</td>\n",
       "      <td>0</td>\n",
       "      <td>0.674</td>\n",
       "      <td>1.980</td>\n",
       "      <td>5</td>\n",
       "    </tr>\n",
       "    <tr>\n",
       "      <th>22</th>\n",
       "      <td>1964</td>\n",
       "      <td>61.203</td>\n",
       "      <td>57.324</td>\n",
       "      <td>1</td>\n",
       "      <td>1</td>\n",
       "      <td>0.00</td>\n",
       "      <td>0</td>\n",
       "      <td>5.030</td>\n",
       "      <td>1.241</td>\n",
       "      <td>9</td>\n",
       "    </tr>\n",
       "    <tr>\n",
       "      <th>23</th>\n",
       "      <td>1968</td>\n",
       "      <td>49.425</td>\n",
       "      <td>50.921</td>\n",
       "      <td>1</td>\n",
       "      <td>0</td>\n",
       "      <td>1.00</td>\n",
       "      <td>0</td>\n",
       "      <td>5.045</td>\n",
       "      <td>3.086</td>\n",
       "      <td>7</td>\n",
       "    </tr>\n",
       "    <tr>\n",
       "      <th>24</th>\n",
       "      <td>1972</td>\n",
       "      <td>38.209</td>\n",
       "      <td>52.660</td>\n",
       "      <td>-1</td>\n",
       "      <td>-1</td>\n",
       "      <td>0.00</td>\n",
       "      <td>0</td>\n",
       "      <td>5.834</td>\n",
       "      <td>4.813</td>\n",
       "      <td>4</td>\n",
       "    </tr>\n",
       "    <tr>\n",
       "      <th>25</th>\n",
       "      <td>1976</td>\n",
       "      <td>51.049</td>\n",
       "      <td>56.850</td>\n",
       "      <td>-1</td>\n",
       "      <td>0</td>\n",
       "      <td>-1.00</td>\n",
       "      <td>0</td>\n",
       "      <td>3.817</td>\n",
       "      <td>7.463</td>\n",
       "      <td>5</td>\n",
       "    </tr>\n",
       "    <tr>\n",
       "      <th>26</th>\n",
       "      <td>1980</td>\n",
       "      <td>44.842</td>\n",
       "      <td>51.383</td>\n",
       "      <td>1</td>\n",
       "      <td>1</td>\n",
       "      <td>0.00</td>\n",
       "      <td>0</td>\n",
       "      <td>-3.583</td>\n",
       "      <td>7.795</td>\n",
       "      <td>5</td>\n",
       "    </tr>\n",
       "    <tr>\n",
       "      <th>27</th>\n",
       "      <td>1984</td>\n",
       "      <td>40.877</td>\n",
       "      <td>52.778</td>\n",
       "      <td>-1</td>\n",
       "      <td>-1</td>\n",
       "      <td>0.00</td>\n",
       "      <td>0</td>\n",
       "      <td>5.550</td>\n",
       "      <td>5.210</td>\n",
       "      <td>8</td>\n",
       "    </tr>\n",
       "    <tr>\n",
       "      <th>28</th>\n",
       "      <td>1988</td>\n",
       "      <td>46.168</td>\n",
       "      <td>54.011</td>\n",
       "      <td>-1</td>\n",
       "      <td>0</td>\n",
       "      <td>-1.00</td>\n",
       "      <td>0</td>\n",
       "      <td>2.403</td>\n",
       "      <td>2.871</td>\n",
       "      <td>5</td>\n",
       "    </tr>\n",
       "    <tr>\n",
       "      <th>29</th>\n",
       "      <td>1992</td>\n",
       "      <td>53.621</td>\n",
       "      <td>52.744</td>\n",
       "      <td>-1</td>\n",
       "      <td>-1</td>\n",
       "      <td>-1.25</td>\n",
       "      <td>0</td>\n",
       "      <td>3.035</td>\n",
       "      <td>3.193</td>\n",
       "      <td>3</td>\n",
       "    </tr>\n",
       "    <tr>\n",
       "      <th>30</th>\n",
       "      <td>1996</td>\n",
       "      <td>54.737</td>\n",
       "      <td>50.158</td>\n",
       "      <td>1</td>\n",
       "      <td>1</td>\n",
       "      <td>0.00</td>\n",
       "      <td>0</td>\n",
       "      <td>3.315</td>\n",
       "      <td>2.031</td>\n",
       "      <td>4</td>\n",
       "    </tr>\n",
       "    <tr>\n",
       "      <th>31</th>\n",
       "      <td>2000</td>\n",
       "      <td>50.262</td>\n",
       "      <td>49.819</td>\n",
       "      <td>1</td>\n",
       "      <td>0</td>\n",
       "      <td>1.00</td>\n",
       "      <td>0</td>\n",
       "      <td>2.031</td>\n",
       "      <td>1.683</td>\n",
       "      <td>7</td>\n",
       "    </tr>\n",
       "    <tr>\n",
       "      <th>32</th>\n",
       "      <td>2004</td>\n",
       "      <td>48.767</td>\n",
       "      <td>48.632</td>\n",
       "      <td>-1</td>\n",
       "      <td>-1</td>\n",
       "      <td>0.00</td>\n",
       "      <td>0</td>\n",
       "      <td>2.086</td>\n",
       "      <td>2.141</td>\n",
       "      <td>2</td>\n",
       "    </tr>\n",
       "    <tr>\n",
       "      <th>33</th>\n",
       "      <td>2008</td>\n",
       "      <td>53.689</td>\n",
       "      <td>55.535</td>\n",
       "      <td>-1</td>\n",
       "      <td>0</td>\n",
       "      <td>-1.00</td>\n",
       "      <td>0</td>\n",
       "      <td>-1.787</td>\n",
       "      <td>2.745</td>\n",
       "      <td>2</td>\n",
       "    </tr>\n",
       "    <tr>\n",
       "      <th>34</th>\n",
       "      <td>2012</td>\n",
       "      <td>52.010</td>\n",
       "      <td>50.681</td>\n",
       "      <td>1</td>\n",
       "      <td>1</td>\n",
       "      <td>0.00</td>\n",
       "      <td>0</td>\n",
       "      <td>1.422</td>\n",
       "      <td>1.470</td>\n",
       "      <td>1</td>\n",
       "    </tr>\n",
       "  </tbody>\n",
       "</table>\n",
       "</div>"
      ],
      "text/plain": [
       "       t      VP      VC  I  DPER   DUR  WAR       G      P   Z\n",
       "1   1880  49.780      na -1     0 -1.75    0   3.879  1.974   9\n",
       "2   1884  50.154      na -1     0 -2.00    0   1.589  1.055   2\n",
       "3   1888  50.414      na  1     1  0.00    0  -5.553  0.604   3\n",
       "4   1892  51.732      na -1    -1  0.00    0   2.763  2.274   7\n",
       "5   1896  47.760  48.081  1     0  0.00    0 -10.024  3.410   6\n",
       "6   1900  46.829  46.604 -1    -1  0.00    0  -1.425  2.548   7\n",
       "7   1904  39.994  43.659 -1    -1 -1.00    0  -2.421  1.442   5\n",
       "8   1908  45.517  48.107 -1     0 -1.25    0  -6.281  1.879   8\n",
       "9   1912  45.292  57.111 -1    -1 -1.50    0   4.164  2.172   8\n",
       "10  1916  51.682  48.881  1     1  0.00    0   2.229  4.252   3\n",
       "11  1920  36.148  37.957  1     0  1.00    1 -11.463  0.000   0\n",
       "12  1924  41.737  42.093 -1    -1  0.00    0  -3.872  5.161  10\n",
       "13  1928  41.244  42.838 -1     0 -1.00    0   4.623  0.183   7\n",
       "14  1932  59.149  56.874 -1    -1 -1.25    0 -14.350  6.928   4\n",
       "15  1936  62.226  58.476  1     1  0.00    0  11.682  2.498   9\n",
       "16  1940  54.983  52.967  1     1  1.00    0   3.913  0.051   8\n",
       "17  1944  53.778  51.718  1     1  1.25    1   4.122  0.000   0\n",
       "18  1948  52.319  53.190  1     1  1.50    1   3.214  0.000   0\n",
       "19  1952  44.710  49.944  1     0  1.75    0   0.997  2.353   7\n",
       "20  1956  42.906  50.970 -1    -1  0.00    0  -1.252  1.907   5\n",
       "21  1960  50.087  54.790 -1     0 -1.00    0   0.674  1.980   5\n",
       "22  1964  61.203  57.324  1     1  0.00    0   5.030  1.241   9\n",
       "23  1968  49.425  50.921  1     0  1.00    0   5.045  3.086   7\n",
       "24  1972  38.209  52.660 -1    -1  0.00    0   5.834  4.813   4\n",
       "25  1976  51.049  56.850 -1     0 -1.00    0   3.817  7.463   5\n",
       "26  1980  44.842  51.383  1     1  0.00    0  -3.583  7.795   5\n",
       "27  1984  40.877  52.778 -1    -1  0.00    0   5.550  5.210   8\n",
       "28  1988  46.168  54.011 -1     0 -1.00    0   2.403  2.871   5\n",
       "29  1992  53.621  52.744 -1    -1 -1.25    0   3.035  3.193   3\n",
       "30  1996  54.737  50.158  1     1  0.00    0   3.315  2.031   4\n",
       "31  2000  50.262  49.819  1     0  1.00    0   2.031  1.683   7\n",
       "32  2004  48.767  48.632 -1    -1  0.00    0   2.086  2.141   2\n",
       "33  2008  53.689  55.535 -1     0 -1.00    0  -1.787  2.745   2\n",
       "34  2012  52.010  50.681  1     1  0.00    0   1.422  1.470   1"
      ]
     },
     "execution_count": 18,
     "metadata": {},
     "output_type": "execute_result"
    }
   ],
   "source": [
    "df1 = df.ix[1:]"
   ]
  },
  {
   "cell_type": "code",
   "execution_count": 27,
   "metadata": {
    "collapsed": false
   },
   "outputs": [
    {
     "name": "stderr",
     "output_type": "stream",
     "text": [
      "//anaconda/envs/py3_nlp/lib/python3.5/site-packages/ipykernel/__main__.py:1: SettingWithCopyWarning: \n",
      "A value is trying to be set on a copy of a slice from a DataFrame.\n",
      "Try using .loc[row_indexer,col_indexer] = value instead\n",
      "\n",
      "See the caveats in the documentation: http://pandas.pydata.org/pandas-docs/stable/indexing.html#indexing-view-versus-copy\n",
      "  if __name__ == '__main__':\n",
      "//anaconda/envs/py3_nlp/lib/python3.5/site-packages/ipykernel/__main__.py:2: SettingWithCopyWarning: \n",
      "A value is trying to be set on a copy of a slice from a DataFrame.\n",
      "Try using .loc[row_indexer,col_indexer] = value instead\n",
      "\n",
      "See the caveats in the documentation: http://pandas.pydata.org/pandas-docs/stable/indexing.html#indexing-view-versus-copy\n",
      "  from ipykernel import kernelapp as app\n"
     ]
    }
   ],
   "source": [
    "df1['P'] = pd.to_numeric(df1['P'])\n",
    "df1['Z'] = pd.to_numeric(df1['Z'])"
   ]
  },
  {
   "cell_type": "code",
   "execution_count": 28,
   "metadata": {
    "collapsed": false
   },
   "outputs": [
    {
     "name": "stdout",
     "output_type": "stream",
     "text": [
      "<class 'pandas.core.frame.DataFrame'>\n",
      "RangeIndex: 34 entries, 1 to 34\n",
      "Data columns (total 10 columns):\n",
      "t       34 non-null int64\n",
      "VP      34 non-null float64\n",
      "VC      34 non-null object\n",
      "I       34 non-null int64\n",
      "DPER    34 non-null int64\n",
      "DUR     34 non-null float64\n",
      "WAR     34 non-null int64\n",
      "G       34 non-null float64\n",
      "P       34 non-null float64\n",
      "Z       34 non-null int64\n",
      "dtypes: float64(4), int64(5), object(1)\n",
      "memory usage: 2.7+ KB\n"
     ]
    }
   ],
   "source": [
    "df1.info()"
   ]
  },
  {
   "cell_type": "code",
   "execution_count": 76,
   "metadata": {
    "collapsed": false
   },
   "outputs": [
    {
     "name": "stderr",
     "output_type": "stream",
     "text": [
      "100%|██████████| 10000/10000 [00:17<00:00, 567.74it/s]\n"
     ]
    },
    {
     "data": {
      "image/png": "[encoded data removed]",
      "text/plain": [
       "<matplotlib.figure.Figure at 0x15292ee10>"
      ]
     },
     "metadata": {},
     "output_type": "display_data"
    }
   ],
   "source": [
    "from pymc3.glm import glm\n",
    "\n",
    "with Model() as model_glm:\n",
    "    glm('VP ~ G + Z + P', df1)\n",
    "    start = pm.find_MAP()\n",
    "    step = pm.NUTS()\n",
    "    trace = sample(10000, step, start, random_seed=123, progressbar = True)\n",
    "    pm.traceplot(trace)"
   ]
  },
  {
   "cell_type": "code",
   "execution_count": 77,
   "metadata": {
    "collapsed": false
   },
   "outputs": [
    {
     "name": "stdout",
     "output_type": "stream",
     "text": [
      "\n",
      "Intercept:\n",
      "\n",
      "  Mean             SD               MC Error         95% HPD interval\n",
      "  -------------------------------------------------------------------\n",
      "  \n",
      "  49.563           2.612            0.033            [44.302, 54.521]\n",
      "\n",
      "  Posterior quantiles:\n",
      "  2.5            25             50             75             97.5\n",
      "  |--------------|==============|==============|--------------|\n",
      "  \n",
      "  44.382         47.822         49.550         51.321         54.652\n",
      "\n",
      "\n",
      "G:\n",
      "\n",
      "  Mean             SD               MC Error         95% HPD interval\n",
      "  -------------------------------------------------------------------\n",
      "  \n",
      "  0.297            0.220            0.002            [-0.145, 0.720]\n",
      "\n",
      "  Posterior quantiles:\n",
      "  2.5            25             50             75             97.5\n",
      "  |--------------|==============|==============|--------------|\n",
      "  \n",
      "  -0.142         0.151          0.300          0.443          0.727\n",
      "\n",
      "\n",
      "Z:\n",
      "\n",
      "  Mean             SD               MC Error         95% HPD interval\n",
      "  -------------------------------------------------------------------\n",
      "  \n",
      "  -0.162           0.431            0.006            [-0.974, 0.708]\n",
      "\n",
      "  Posterior quantiles:\n",
      "  2.5            25             50             75             97.5\n",
      "  |--------------|==============|==============|--------------|\n",
      "  \n",
      "  -1.011         -0.450         -0.160         0.124          0.676\n",
      "\n",
      "\n",
      "P:\n",
      "\n",
      "  Mean             SD               MC Error         95% HPD interval\n",
      "  -------------------------------------------------------------------\n",
      "  \n",
      "  -0.000           0.572            0.005            [-1.142, 1.096]\n",
      "\n",
      "  Posterior quantiles:\n",
      "  2.5            25             50             75             97.5\n",
      "  |--------------|==============|==============|--------------|\n",
      "  \n",
      "  -1.138         -0.385         0.007          0.382          1.109\n",
      "\n",
      "\n",
      "sd:\n",
      "\n",
      "  Mean             SD               MC Error         95% HPD interval\n",
      "  -------------------------------------------------------------------\n",
      "  \n",
      "  6.494            0.854            0.025            [4.968, 8.256]\n",
      "\n",
      "  Posterior quantiles:\n",
      "  2.5            25             50             75             97.5\n",
      "  |--------------|==============|==============|--------------|\n",
      "  \n",
      "  5.107          5.892          6.385          6.980          8.474\n",
      "\n"
     ]
    }
   ],
   "source": [
    "summary(trace)"
   ]
  },
  {
   "cell_type": "code",
   "execution_count": 78,
   "metadata": {
    "collapsed": false
   },
   "outputs": [
    {
     "data": {
      "text/plain": [
       "49.52709"
      ]
     },
     "execution_count": 78,
     "metadata": {},
     "output_type": "execute_result"
    }
   ],
   "source": [
    "G = 0.97    \n",
    "Z = 2\n",
    "P = 1.42\n",
    "VP = (0.297 * G) + (-0.162 * Z) + (0.0 * P) + 49.563\n",
    "VP"
   ]
  },
  {
   "cell_type": "code",
   "execution_count": 79,
   "metadata": {
    "collapsed": false
   },
   "outputs": [
    {
     "data": {
      "text/plain": [
       "266.4557442"
      ]
     },
     "execution_count": 79,
     "metadata": {},
     "output_type": "execute_result"
    }
   ],
   "source": [
    "(VP/100) * 538"
   ]
  },
  {
   "cell_type": "code",
   "execution_count": 80,
   "metadata": {
    "collapsed": false
   },
   "outputs": [
    {
     "data": {
      "text/plain": [
       "49.335390000000004"
      ]
     },
     "execution_count": 80,
     "metadata": {},
     "output_type": "execute_result"
    }
   ],
   "source": [
    "G = 0.87   \n",
    "Z = 3\n",
    "P = 1.28\n",
    "VP = (0.297 * G) + (-0.162 * Z) + (0.0 * P) + 49.563\n",
    "VP"
   ]
  },
  {
   "cell_type": "code",
   "execution_count": 107,
   "metadata": {
    "collapsed": true
   },
   "outputs": [],
   "source": [
    "from sklearn.linear_model import BayesianRidge"
   ]
  },
  {
   "cell_type": "code",
   "execution_count": 104,
   "metadata": {
    "collapsed": true
   },
   "outputs": [],
   "source": [
    "X = df1[['G', 'P','Z']].values\n",
    "Y = df1[['VP']].values"
   ]
  },
  {
   "cell_type": "code",
   "execution_count": 105,
   "metadata": {
    "collapsed": false
   },
   "outputs": [
    {
     "data": {
      "text/plain": [
       "array([[  1.   ,   3.879,   1.974,   9.   ],\n",
       "       [  1.   ,   1.589,   1.055,   2.   ],\n",
       "       [  1.   ,  -5.553,   0.604,   3.   ],\n",
       "       [  1.   ,   2.763,   2.274,   7.   ],\n",
       "       [  1.   , -10.024,   3.41 ,   6.   ],\n",
       "       [  1.   ,  -1.425,   2.548,   7.   ],\n",
       "       [  1.   ,  -2.421,   1.442,   5.   ],\n",
       "       [  1.   ,  -6.281,   1.879,   8.   ],\n",
       "       [  1.   ,   4.164,   2.172,   8.   ],\n",
       "       [  1.   ,   2.229,   4.252,   3.   ],\n",
       "       [  1.   , -11.463,   0.   ,   0.   ],\n",
       "       [  1.   ,  -3.872,   5.161,  10.   ],\n",
       "       [  1.   ,   4.623,   0.183,   7.   ],\n",
       "       [  1.   , -14.35 ,   6.928,   4.   ],\n",
       "       [  1.   ,  11.682,   2.498,   9.   ],\n",
       "       [  1.   ,   3.913,   0.051,   8.   ],\n",
       "       [  1.   ,   4.122,   0.   ,   0.   ],\n",
       "       [  1.   ,   3.214,   0.   ,   0.   ],\n",
       "       [  1.   ,   0.997,   2.353,   7.   ],\n",
       "       [  1.   ,  -1.252,   1.907,   5.   ],\n",
       "       [  1.   ,   0.674,   1.98 ,   5.   ],\n",
       "       [  1.   ,   5.03 ,   1.241,   9.   ],\n",
       "       [  1.   ,   5.045,   3.086,   7.   ],\n",
       "       [  1.   ,   5.834,   4.813,   4.   ],\n",
       "       [  1.   ,   3.817,   7.463,   5.   ],\n",
       "       [  1.   ,  -3.583,   7.795,   5.   ],\n",
       "       [  1.   ,   5.55 ,   5.21 ,   8.   ],\n",
       "       [  1.   ,   2.403,   2.871,   5.   ],\n",
       "       [  1.   ,   3.035,   3.193,   3.   ],\n",
       "       [  1.   ,   3.315,   2.031,   4.   ],\n",
       "       [  1.   ,   2.031,   1.683,   7.   ],\n",
       "       [  1.   ,   2.086,   2.141,   2.   ],\n",
       "       [  1.   ,  -1.787,   2.745,   2.   ],\n",
       "       [  1.   ,   1.422,   1.47 ,   1.   ]])"
      ]
     },
     "execution_count": 105,
     "metadata": {},
     "output_type": "execute_result"
    }
   ],
   "source": [
    "X = np.concatenate((np.ones((X.shape[0], 1), dtype = X.dtype), X), axis = 1)\n",
    "X"
   ]
  },
  {
   "cell_type": "code",
   "execution_count": 110,
   "metadata": {
    "collapsed": false
   },
   "outputs": [
    {
     "data": {
      "text/plain": [
       "BayesianRidge(alpha_1=1e-06, alpha_2=1e-06, compute_score=True, copy_X=True,\n",
       "       fit_intercept=True, lambda_1=1e-06, lambda_2=1e-06, n_iter=300,\n",
       "       normalize=False, tol=0.001, verbose=False)"
      ]
     },
     "execution_count": 110,
     "metadata": {},
     "output_type": "execute_result"
    }
   ],
   "source": [
    "clf = BayesianRidge(compute_score=True)\n",
    "clf.fit(X, Y.ravel())"
   ]
  },
  {
   "cell_type": "code",
   "execution_count": 111,
   "metadata": {
    "collapsed": false
   },
   "outputs": [
    {
     "data": {
      "text/plain": [
       "array([ 48.95762564])"
      ]
     },
     "execution_count": 111,
     "metadata": {},
     "output_type": "execute_result"
    }
   ],
   "source": [
    "clf.predict([[1, 0.87, 1.28, 3]])"
   ]
  },
  {
   "cell_type": "code",
   "execution_count": 112,
   "metadata": {
    "collapsed": false
   },
   "outputs": [
    {
     "data": {
      "text/plain": [
       "263.3919956"
      ]
     },
     "execution_count": 112,
     "metadata": {},
     "output_type": "execute_result"
    }
   ],
   "source": [
    "(48.95762/100) * 538"
   ]
  },
  {
   "cell_type": "code",
   "execution_count": 115,
   "metadata": {
    "collapsed": false
   },
   "outputs": [],
   "source": [
    "pred_data = pd.read_table('./prediction.txt', delim_whitespace = True)"
   ]
  },
  {
   "cell_type": "code",
   "execution_count": 116,
   "metadata": {
    "collapsed": false
   },
   "outputs": [
    {
     "data": {
      "text/html": [
       "<div>\n",
       "<table border=\"1\" class=\"dataframe\">\n",
       "  <thead>\n",
       "    <tr style=\"text-align: right;\">\n",
       "      <th></th>\n",
       "      <th></th>\n",
       "      <th></th>\n",
       "      <th>G</th>\n",
       "      <th>P</th>\n",
       "      <th>Z</th>\n",
       "    </tr>\n",
       "  </thead>\n",
       "  <tbody>\n",
       "    <tr>\n",
       "      <th>November</th>\n",
       "      <th>11,</th>\n",
       "      <th>2014</th>\n",
       "      <td>2.97</td>\n",
       "      <td>2.14</td>\n",
       "      <td>6</td>\n",
       "    </tr>\n",
       "    <tr>\n",
       "      <th>January</th>\n",
       "      <th>31,</th>\n",
       "      <th>2015</th>\n",
       "      <td>3.04</td>\n",
       "      <td>1.86</td>\n",
       "      <td>3</td>\n",
       "    </tr>\n",
       "    <tr>\n",
       "      <th>April</th>\n",
       "      <th>29,</th>\n",
       "      <th>2015</th>\n",
       "      <td>3.22</td>\n",
       "      <td>1.14</td>\n",
       "      <td>5</td>\n",
       "    </tr>\n",
       "    <tr>\n",
       "      <th>July</th>\n",
       "      <th>31,</th>\n",
       "      <th>2015</th>\n",
       "      <td>3.03</td>\n",
       "      <td>1.33</td>\n",
       "      <td>3</td>\n",
       "    </tr>\n",
       "    <tr>\n",
       "      <th>October</th>\n",
       "      <th>31,</th>\n",
       "      <th>2015</th>\n",
       "      <td>2.16</td>\n",
       "      <td>1.37</td>\n",
       "      <td>3</td>\n",
       "    </tr>\n",
       "    <tr>\n",
       "      <th>January</th>\n",
       "      <th>30,</th>\n",
       "      <th>2016</th>\n",
       "      <td>1.97</td>\n",
       "      <td>1.37</td>\n",
       "      <td>3</td>\n",
       "    </tr>\n",
       "    <tr>\n",
       "      <th>April</th>\n",
       "      <th>28,</th>\n",
       "      <th>2016</th>\n",
       "      <td>0.87</td>\n",
       "      <td>1.28</td>\n",
       "      <td>3</td>\n",
       "    </tr>\n",
       "    <tr>\n",
       "      <th>July</th>\n",
       "      <th>29,</th>\n",
       "      <th>2016</th>\n",
       "      <td>0.94</td>\n",
       "      <td>1.40</td>\n",
       "      <td>2</td>\n",
       "    </tr>\n",
       "    <tr>\n",
       "      <th>October</th>\n",
       "      <th>28,</th>\n",
       "      <th>2016</th>\n",
       "      <td>0.97</td>\n",
       "      <td>1.42</td>\n",
       "      <td>2</td>\n",
       "    </tr>\n",
       "  </tbody>\n",
       "</table>\n",
       "</div>"
      ],
      "text/plain": [
       "                      G     P  Z\n",
       "November 11, 2014  2.97  2.14  6\n",
       "January  31, 2015  3.04  1.86  3\n",
       "April    29, 2015  3.22  1.14  5\n",
       "July     31, 2015  3.03  1.33  3\n",
       "October  31, 2015  2.16  1.37  3\n",
       "January  30, 2016  1.97  1.37  3\n",
       "April    28, 2016  0.87  1.28  3\n",
       "July     29, 2016  0.94  1.40  2\n",
       "October  28, 2016  0.97  1.42  2"
      ]
     },
     "execution_count": 116,
     "metadata": {},
     "output_type": "execute_result"
    }
   ],
   "source": [
    "pred_data"
   ]
  },
  {
   "cell_type": "code",
   "execution_count": 117,
   "metadata": {
    "collapsed": true
   },
   "outputs": [],
   "source": [
    "X_pred = pred_data[['G', 'P','Z']].values"
   ]
  },
  {
   "cell_type": "code",
   "execution_count": 119,
   "metadata": {
    "collapsed": false
   },
   "outputs": [
    {
     "data": {
      "text/plain": [
       "array([[ 1.  ,  2.97,  2.14,  6.  ],\n",
       "       [ 1.  ,  3.04,  1.86,  3.  ],\n",
       "       [ 1.  ,  3.22,  1.14,  5.  ],\n",
       "       [ 1.  ,  3.03,  1.33,  3.  ],\n",
       "       [ 1.  ,  2.16,  1.37,  3.  ],\n",
       "       [ 1.  ,  1.97,  1.37,  3.  ],\n",
       "       [ 1.  ,  0.87,  1.28,  3.  ],\n",
       "       [ 1.  ,  0.94,  1.4 ,  2.  ],\n",
       "       [ 1.  ,  0.97,  1.42,  2.  ]])"
      ]
     },
     "execution_count": 119,
     "metadata": {},
     "output_type": "execute_result"
    }
   ],
   "source": [
    "X_pred = np.concatenate((np.ones((X_pred.shape[0], 1), dtype = X_pred.dtype), X_pred), axis = 1)\n",
    "X_pred"
   ]
  },
  {
   "cell_type": "code",
   "execution_count": 121,
   "metadata": {
    "collapsed": false
   },
   "outputs": [],
   "source": [
    "dem_probs = clf.predict(X_pred)"
   ]
  },
  {
   "cell_type": "code",
   "execution_count": 122,
   "metadata": {
    "collapsed": false
   },
   "outputs": [
    {
     "data": {
      "text/plain": [
       "array([ 264.1023195 ,  264.22498459,  264.26195259,  264.23844921,\n",
       "        263.8955554 ,  263.82095719,  263.39202595,  263.4442366 ,\n",
       "        263.45535901])"
      ]
     },
     "execution_count": 122,
     "metadata": {},
     "output_type": "execute_result"
    }
   ],
   "source": [
    "(dem_probs/100) * 538"
   ]
  },
  {
   "cell_type": "code",
   "execution_count": null,
   "metadata": {
    "collapsed": true
   },
   "outputs": [],
   "source": []
  }
 ],
 "metadata": {
  "anaconda-cloud": {},
  "kernelspec": {
   "display_name": "Python [conda env:py3_nlp]",
   "language": "python",
   "name": "conda-env-py3_nlp-py"
  },
  "language_info": {
   "codemirror_mode": {
    "name": "ipython",
    "version": 3
   },
   "file_extension": ".py",
   "mimetype": "text/x-python",
   "name": "python",
   "nbconvert_exporter": "python",
   "pygments_lexer": "ipython3",
   "version": "3.5.1"
  }
 },
 "nbformat": 4,
 "nbformat_minor": 1
}
