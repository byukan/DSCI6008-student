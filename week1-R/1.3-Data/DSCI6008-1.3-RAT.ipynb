{
 "cells": [
  {
   "cell_type": "markdown",
   "metadata": {},
   "source": [
    "# RAT 1  \n",
    "\n",
    "1) Write an R function that, given a vector x and a value a, finds the smallest value of n such that the sum of the first n elements of x is bigger than a, or NA if no such n exists. "
   ]
  },
  {
   "cell_type": "markdown",
   "metadata": {},
   "source": [
    "2) Consider the following mechanism for generating a sequence of numbers. If $x_i$ is the ith term then the i + 1st term is generated as  \n",
    "\n",
    "$$ x_{i+1} = x_i + \\pi(x_i)$$  \n",
    "\n",
    "where $\\pi(x_i)$ is the product of the non-zero digits in $x_i$.   \n",
    "\n",
    "For example, if $x_i$ = 1032 then $x_{i+1}$ is generated as  \n",
    "\n",
    "$$ 1038 = 1032 + 1 × 3 × 2$$  \n",
    "\n",
    "(a) Write an R function 'next.term' that can be used to generate the next term from the current term via the recipe above.  \n",
    "\n",
    "(b) Write an R function that uses the function written in part (a) to generate and return a vector of n values starting with a specified value x. "
   ]
  }
 ],
 "metadata": {
  "anaconda-cloud": {},
  "kernelspec": {
   "display_name": "R",
   "language": "R",
   "name": "ir"
  },
  "language_info": {
   "codemirror_mode": "r",
   "file_extension": ".r",
   "mimetype": "text/x-r-source",
   "name": "R",
   "pygments_lexer": "r",
   "version": "3.3.1"
  }
 },
 "nbformat": 4,
 "nbformat_minor": 1
}
