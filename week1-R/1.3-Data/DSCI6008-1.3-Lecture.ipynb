{
 "cells": [
  {
   "cell_type": "markdown",
   "metadata": {},
   "source": [
    "# Lecture 1.3: Data Frames & Graphics"
   ]
  },
  {
   "cell_type": "markdown",
   "metadata": {},
   "source": [
    "## Data Frames  \n",
    "\n",
    "* Data frames provide a way of grouping a number of related variables into a single data object.  \n",
    "\n",
    "* The function 'data.frame' takes a number of vectors and/or factors and returns a single object containing all the variables\n",
    "\n",
    "* Data frames are stored as a list of variables"
   ]
  },
  {
   "cell_type": "code",
   "execution_count": null,
   "metadata": {
    "collapsed": false
   },
   "outputs": [],
   "source": [
    "gender = factor(rep(c(\"female\", \"male\"), c(4, 4)))\n",
    "hgt = c(165, 176, 171, 177, 176, 193, 180, 193)\n",
    "classinfo = data.frame(gender, hgt)\n",
    "classinfo"
   ]
  },
  {
   "cell_type": "code",
   "execution_count": null,
   "metadata": {
    "collapsed": false,
    "scrolled": true
   },
   "outputs": [],
   "source": [
    "head(classinfo)"
   ]
  },
  {
   "cell_type": "code",
   "execution_count": null,
   "metadata": {
    "collapsed": false
   },
   "outputs": [],
   "source": [
    "tail(classinfo)"
   ]
  },
  {
   "cell_type": "code",
   "execution_count": null,
   "metadata": {
    "collapsed": false
   },
   "outputs": [],
   "source": [
    "# Summarize the data\n",
    "\n",
    "summary(classinfo)"
   ]
  },
  {
   "cell_type": "code",
   "execution_count": null,
   "metadata": {
    "collapsed": true
   },
   "outputs": [],
   "source": [
    "# To find the documentation of a function\n",
    "\n",
    "?data.frame"
   ]
  },
  {
   "cell_type": "code",
   "execution_count": null,
   "metadata": {
    "collapsed": false
   },
   "outputs": [],
   "source": [
    "# To get a reminder of the arguments we need to pass in\n",
    "\n",
    "args(data.frame)"
   ]
  },
  {
   "cell_type": "code",
   "execution_count": null,
   "metadata": {
    "collapsed": false
   },
   "outputs": [],
   "source": [
    "# To see examples using the function\n",
    "\n",
    "example(data.frame)"
   ]
  },
  {
   "cell_type": "markdown",
   "metadata": {},
   "source": [
    "### Factors  \n",
    "\n",
    "* In R, categorical variables are typically represented as 'factors'  \n",
    "\n",
    "* The function 'factor' is used to create factors\n",
    "\n",
    "* The categories are defined as 'levels'; by default, the levels are sorted into ascending order\n",
    "\n",
    "* If the categorical variable is ordered, we create a ordered factor using 'ordered'"
   ]
  },
  {
   "cell_type": "code",
   "execution_count": null,
   "metadata": {
    "collapsed": false
   },
   "outputs": [],
   "source": [
    "# Create a factor to represent gender\n",
    "\n",
    "gender = factor(rep(c(\"female\", \"male\"), c(4, 4)))\n",
    "print(gender)"
   ]
  },
  {
   "cell_type": "code",
   "execution_count": null,
   "metadata": {
    "collapsed": false
   },
   "outputs": [],
   "source": [
    "# You can specify the order of the levels\n",
    "\n",
    "gender = factor(rep(c(\"female\", \"male\"), c(4, 4)),\n",
    "                levels = c(\"male\", \"female\"))\n",
    "print(gender)"
   ]
  },
  {
   "cell_type": "code",
   "execution_count": null,
   "metadata": {
    "collapsed": false
   },
   "outputs": [],
   "source": [
    "# To obtains the levels/ categories of the data\n",
    "\n",
    "levels(gender)"
   ]
  },
  {
   "cell_type": "code",
   "execution_count": null,
   "metadata": {
    "collapsed": false
   },
   "outputs": [],
   "source": [
    "# Create an ordered factor\n",
    "\n",
    "size = ordered(c(\"large\", \"medium\", \"medium\",\n",
    "                 \"small\", \"medium\", \"large\"),\n",
    "               levels = c(\"small\", \"medium\",\n",
    "                          \"large\"))\n",
    "print(size)"
   ]
  },
  {
   "cell_type": "code",
   "execution_count": null,
   "metadata": {
    "collapsed": false
   },
   "outputs": [],
   "source": [
    "# To check if a variable is a factor\n",
    "\n",
    "is.factor(gender)"
   ]
  },
  {
   "cell_type": "code",
   "execution_count": null,
   "metadata": {
    "collapsed": false
   },
   "outputs": [],
   "source": [
    "is.factor(size)"
   ]
  },
  {
   "cell_type": "code",
   "execution_count": null,
   "metadata": {
    "collapsed": false
   },
   "outputs": [],
   "source": [
    "is.ordered(gender)"
   ]
  },
  {
   "cell_type": "code",
   "execution_count": null,
   "metadata": {
    "collapsed": false
   },
   "outputs": [],
   "source": [
    "is.ordered(size)"
   ]
  },
  {
   "cell_type": "markdown",
   "metadata": {},
   "source": [
    "### Tabulation \n",
    "\n",
    "* We can create frequency tables based on the number of times each level occurs"
   ]
  },
  {
   "cell_type": "code",
   "execution_count": null,
   "metadata": {
    "collapsed": false
   },
   "outputs": [],
   "source": [
    "table(gender)"
   ]
  },
  {
   "cell_type": "markdown",
   "metadata": {},
   "source": [
    "* 'table' can also be used to create contingency tables when there are two or more factors"
   ]
  },
  {
   "cell_type": "markdown",
   "metadata": {},
   "source": [
    "### Summary by Factor Levels"
   ]
  },
  {
   "cell_type": "code",
   "execution_count": null,
   "metadata": {
    "collapsed": false
   },
   "outputs": [],
   "source": [
    "tapply(hgt, gender, mean)"
   ]
  },
  {
   "cell_type": "code",
   "execution_count": null,
   "metadata": {
    "collapsed": true
   },
   "outputs": [],
   "source": [
    "?tapply"
   ]
  },
  {
   "cell_type": "markdown",
   "metadata": {},
   "source": [
    "### Subsetting a Data Frame"
   ]
  },
  {
   "cell_type": "code",
   "execution_count": null,
   "metadata": {
    "collapsed": false
   },
   "outputs": [],
   "source": [
    "classinfo$hgt"
   ]
  },
  {
   "cell_type": "code",
   "execution_count": null,
   "metadata": {
    "collapsed": false
   },
   "outputs": [],
   "source": [
    "classinfo$gender"
   ]
  },
  {
   "cell_type": "code",
   "execution_count": null,
   "metadata": {
    "collapsed": false
   },
   "outputs": [],
   "source": [
    "tapply(classinfo$hgt, classinfo$gender, mean)"
   ]
  },
  {
   "cell_type": "code",
   "execution_count": null,
   "metadata": {
    "collapsed": false
   },
   "outputs": [],
   "source": [
    "# To save the trouble typing out the table name \n",
    "with(classinfo, tapply(hgt, gender, mean))"
   ]
  },
  {
   "cell_type": "code",
   "execution_count": null,
   "metadata": {
    "collapsed": false
   },
   "outputs": [],
   "source": [
    "# Extract the subset of males who are taller than 190cm\n",
    "mt = subset(classinfo, gender == \"male\" & hgt > 190)\n",
    "mt"
   ]
  },
  {
   "cell_type": "code",
   "execution_count": null,
   "metadata": {
    "collapsed": false
   },
   "outputs": [],
   "source": [
    "# We can treat it as a matrix, but this should be AVOIDED!\n",
    "classinfo[c(1,3,5,7), ]"
   ]
  },
  {
   "cell_type": "code",
   "execution_count": null,
   "metadata": {
    "collapsed": false
   },
   "outputs": [],
   "source": [
    "# We can treat it as a matrix, but this should be AVOIDED!\n",
    "classinfo[,1]"
   ]
  },
  {
   "cell_type": "markdown",
   "metadata": {},
   "source": [
    "### Transform Variables in a Data Frame"
   ]
  },
  {
   "cell_type": "code",
   "execution_count": null,
   "metadata": {
    "collapsed": false
   },
   "outputs": [],
   "source": [
    "nclass = transform(classinfo, hgt2 = hgt^2)\n",
    "nclass"
   ]
  },
  {
   "cell_type": "code",
   "execution_count": null,
   "metadata": {
    "collapsed": false
   },
   "outputs": [],
   "source": [
    "# Select cases where hgt > 175 for the variables hgt2 and gender\n",
    "subset(nclass, hgt > 175, select = c(hgt2, gender))"
   ]
  },
  {
   "cell_type": "markdown",
   "metadata": {},
   "source": [
    "### Sorting Data Frames"
   ]
  },
  {
   "cell_type": "code",
   "execution_count": null,
   "metadata": {
    "collapsed": false
   },
   "outputs": [],
   "source": [
    "o = order(classinfo$hgt)\n",
    "classinfo[o,]"
   ]
  },
  {
   "cell_type": "markdown",
   "metadata": {},
   "source": [
    "### Reading Data\n",
    "\n",
    "* read.table\n",
    "* read.csv\n",
    "* read.delim"
   ]
  },
  {
   "cell_type": "markdown",
   "metadata": {},
   "source": [
    "**Exercise**: There are many interesting built-in datasets in the 'datasets' package as well as other packages, find a dataset you like and explore that dataset.\n",
    "\n",
    "* Use 'data()' to get the list of datasets"
   ]
  },
  {
   "cell_type": "code",
   "execution_count": null,
   "metadata": {
    "collapsed": true
   },
   "outputs": [],
   "source": [
    "# To get the list of built-in datasets in the 'datasets' package\n",
    "data()"
   ]
  },
  {
   "cell_type": "code",
   "execution_count": null,
   "metadata": {
    "collapsed": true
   },
   "outputs": [],
   "source": [
    "# To get more information about a dataset\n",
    "help(AirPassengers)"
   ]
  },
  {
   "cell_type": "code",
   "execution_count": null,
   "metadata": {
    "collapsed": false
   },
   "outputs": [],
   "source": [
    "summary(AirPassengers)"
   ]
  },
  {
   "cell_type": "code",
   "execution_count": null,
   "metadata": {
    "collapsed": false
   },
   "outputs": [],
   "source": [
    "# To see a list of dataset in another library\n",
    "data(package = \"MASS\")"
   ]
  },
  {
   "cell_type": "code",
   "execution_count": null,
   "metadata": {
    "collapsed": false
   },
   "outputs": [],
   "source": [
    "# To access a dataset in MASS\n",
    "data(Cars93, package = \"MASS\")\n",
    "summary(Cars93)"
   ]
  },
  {
   "cell_type": "markdown",
   "metadata": {},
   "source": [
    "## Graphics\n",
    "\n",
    "* R has a number of functions that produce graphics\n",
    "\n",
    "* Some functions draw an entire graph with a single function call; they are called high-level graphics functions\n",
    "\n",
    "* Other graphics functions are used to build up graphs incrementally; they are called low-level graphics functions"
   ]
  },
  {
   "cell_type": "markdown",
   "metadata": {},
   "source": [
    "### The 'plot' Function \n",
    "\n",
    "* The most basic plotting function\n",
    "\n",
    "* It takes a set of x and y coordinates and produces a plot based on those coordinates\n",
    "\n",
    "* The simplest plot is a simple scatterplot, but optional arguments make it possible to produce a variety of different plot styles  "
   ]
  },
  {
   "cell_type": "code",
   "execution_count": null,
   "metadata": {
    "collapsed": false
   },
   "outputs": [],
   "source": [
    "xvals = 1:100\n",
    "yvals = rnorm(100)\n",
    "plot(xvals, yvals)"
   ]
  },
  {
   "cell_type": "markdown",
   "metadata": {},
   "source": [
    "**Exercise**: Plot the data you were exploring in the previous exercise."
   ]
  },
  {
   "cell_type": "code",
   "execution_count": null,
   "metadata": {
    "collapsed": false
   },
   "outputs": [],
   "source": [
    "# Customize labels\n",
    "\n",
    "plot(xvals, yvals,\n",
    "     main = \"An Overall Title\",\n",
    "     xlab = \"A Label for the X-Axis\",\n",
    "     ylab = \"A Label for the Y-Axis\",\n",
    "     sub = \"A Plot Subtitle\")"
   ]
  },
  {
   "cell_type": "markdown",
   "metadata": {},
   "source": [
    "**Exercise**: Label your plot."
   ]
  },
  {
   "cell_type": "code",
   "execution_count": null,
   "metadata": {
    "collapsed": false
   },
   "outputs": [],
   "source": [
    "# Customize plotting symbol and colors\n",
    "\n",
    "cols = sample(c(\"red\", \"green4\", \"blue\"),\n",
    "              length(xvals), replace = TRUE)\n",
    "plot(xvals, yvals, pch = 16, col = cols)"
   ]
  },
  {
   "cell_type": "markdown",
   "metadata": {},
   "source": [
    "**Exercise**: Plot your data with different plotting symbols and colors."
   ]
  },
  {
   "cell_type": "markdown",
   "metadata": {},
   "source": [
    "### Different Types of Plot  \n",
    "\n",
    "* By default, the plot function produces a scatterplot\n",
    "\n",
    "* The optional 'type' argument makes it possible to produce other types of plot   \n",
    "\n",
    "* The plot types are:\n",
    "    * \"p\" points (i.e. a scatterplot)\n",
    "    * \"l\" lines (i.e. a line plot)\n",
    "    * \"b\" both (points and lines)\n",
    "    * \"c\" just the lines from type=\"b\"\n",
    "    * \"o\" points and lines overplotted\n",
    "    * \"h\" high-density needles\n",
    "    * \"s\" step function, horizontal step first\n",
    "    * \"S\" step function, vertical step first\n",
    "    * \"n\" nothing (i.e. no plot contents)"
   ]
  },
  {
   "cell_type": "code",
   "execution_count": null,
   "metadata": {
    "collapsed": false
   },
   "outputs": [],
   "source": [
    "plot(xvals, yvals, type = \"b\")"
   ]
  },
  {
   "cell_type": "markdown",
   "metadata": {},
   "source": [
    "**Exercise**: Try out all the different plotting types and see what they look like."
   ]
  },
  {
   "cell_type": "markdown",
   "metadata": {},
   "source": [
    "### Line Types  \n",
    "\n",
    "* The line type can be specified with an argument of the form 'lty=type'  \n",
    "\n",
    "* One way to specify the line type is to use these names: \"solid\", \"dashed\", \"dotted\", \"dotdash\", \"longdash\", \"twodash\"\n",
    "\n",
    "* Line thickness can be set with 'lwd=w'"
   ]
  },
  {
   "cell_type": "code",
   "execution_count": null,
   "metadata": {
    "collapsed": false
   },
   "outputs": [],
   "source": [
    "plot(rnorm(10), type=\"l\",\n",
    "     lwd=4, lty=\"dotted\", col=\"blue\",\n",
    "     main = \"A Thick Dotted Line\")"
   ]
  },
  {
   "cell_type": "markdown",
   "metadata": {},
   "source": [
    "### Controlling Axis Limits\n",
    "\n",
    "* The plot arguments xlim and ylim supply two values which are use to determine the limits on the x and y axes\n",
    "\n",
    "* By default the range between the limits is expanded by 8% so that points near the edge of the plot do not overlap the edges\n",
    "\n",
    "* This can be changed by specifying 'xaxs=\"i\"' or 'yaxs=\"i\"' to prevent the expansion"
   ]
  },
  {
   "cell_type": "code",
   "execution_count": null,
   "metadata": {
    "collapsed": false
   },
   "outputs": [],
   "source": [
    "plot(rnorm(10), type=\"l\",\n",
    "     ylim = c(-3, 3),\n",
    "     lwd=4, lty=\"1111\", col=\"blue\",\n",
    "     main = \"A Thick Dotted Line\")"
   ]
  },
  {
   "cell_type": "markdown",
   "metadata": {},
   "source": [
    "### Adding to Plots  \n",
    "\n",
    "* Once a plot is created, we can add additional graphical information with a variety of low-level functions\n",
    "    * 'points': draw points\n",
    "    * 'lines': draw connected line segments\n",
    "    * 'abline': add a straight line to a plot\n",
    "    * 'segments': draw disconnected line segments\n",
    "    * 'arrows': add arrows to a plot\n",
    "    * 'rect': add rectangles to a plot\n",
    "    * 'polygon': add polygons to a plot\n",
    "    * 'text': add text to a plot"
   ]
  },
  {
   "cell_type": "code",
   "execution_count": null,
   "metadata": {
    "collapsed": false
   },
   "outputs": [],
   "source": [
    "plot(rnorm(10), type=\"l\",\n",
    "     ylim = c(-3, 3),\n",
    "     lwd=4, lty=\"1111\", col=\"blue\",\n",
    "     main = \"A Thick Dotted Line\")\n",
    "lines(rnorm(10), type = \"l\",\n",
    "      lwd = 4, lty=\"1232\", col = \"green4\")"
   ]
  },
  {
   "cell_type": "markdown",
   "metadata": {},
   "source": [
    "### Boxplot  "
   ]
  },
  {
   "cell_type": "code",
   "execution_count": null,
   "metadata": {
    "collapsed": true
   },
   "outputs": [],
   "source": [
    "# randomly generate 5 groups of 20 observations each\n",
    "groups = rep(1:5, each = 20)\n",
    "means = c(5, 7, 6, 9, 8)\n",
    "y = rnorm(100) + rep(means, each = 20)"
   ]
  },
  {
   "cell_type": "code",
   "execution_count": null,
   "metadata": {
    "collapsed": false
   },
   "outputs": [],
   "source": [
    "# Plot side-by-side boxplots\n",
    "boxplot(y ~ groups, main = \"Simulated Grouped Data\")"
   ]
  },
  {
   "cell_type": "markdown",
   "metadata": {},
   "source": [
    "* A customized alternative"
   ]
  },
  {
   "cell_type": "code",
   "execution_count": null,
   "metadata": {
    "collapsed": false
   },
   "outputs": [],
   "source": [
    "ybar = sapply(split(y, groups), mean)\n",
    "ysd = sapply(split(y, groups), sd)\n",
    "plot(groups, y, xlim = c(1, 5.25),\n",
    "     xlab = \"Group\", ylab = \"Values\",\n",
    "     main = \"Data with Means and Error Bars\")\n",
    "points(1:5 + .25, ybar, pch=19)\n",
    "arrows(1:5 + .25, ybar - 2 * ysd/sqrt(20),\n",
    "       1:5 + .25, ybar + 2 * ysd/sqrt(20),\n",
    "       code = 3, angle = 90, length = .1)"
   ]
  },
  {
   "cell_type": "markdown",
   "metadata": {},
   "source": [
    "### Area Fill Primitives\n",
    "\n",
    "* The graphical primitives 'rect' and 'polygon' can be used to draw coloured areas  "
   ]
  },
  {
   "cell_type": "code",
   "execution_count": null,
   "metadata": {
    "collapsed": false
   },
   "outputs": [],
   "source": [
    "# Create 10 rectangles, going bottom to top\n",
    "plot(c(-10, 10), c(0, 10), type = \"n\",\n",
    "     ylab = \"\", xlab = \"\")\n",
    "xl = -(10:1)\n",
    "xr = 10:1\n",
    "yb = 0:9\n",
    "yt = 1:10\n",
    "rect(xl, yb, xr, yt, col = \"tan\")"
   ]
  },
  {
   "cell_type": "code",
   "execution_count": null,
   "metadata": {
    "collapsed": false
   },
   "outputs": [],
   "source": [
    "# Drop the axes from the plot\n",
    "\n",
    "plot(c(-10, 10), c(0, 10), type = \"n\",\n",
    "     axes = FALSE,\n",
    "     ylab = \"\", xlab = \"\")\n",
    "rect(-(10:1), 0:9, 10:1, 1:10, col = \"tan\")"
   ]
  },
  {
   "cell_type": "markdown",
   "metadata": {},
   "source": [
    "**Exercise**: Produce a plot that looks like this:  \n",
    "\n",
    "<img src=\"images/rect.png\" width=\"700\">"
   ]
  },
  {
   "cell_type": "code",
   "execution_count": null,
   "metadata": {
    "collapsed": false
   },
   "outputs": [],
   "source": [
    "# Create simple polygon\n",
    "plot(c(-10, 10), c(0, 10), type = \"n\",\n",
    "     axes = FALSE,\n",
    "     ylab = \"\", xlab = \"\")\n",
    "polygon(c(-10, 0, 10), c(0, 10, 0), col = \"lightgreen\")"
   ]
  },
  {
   "cell_type": "markdown",
   "metadata": {},
   "source": [
    "**Exercise**: try to create the polygon below.  \n",
    "\n",
    "<img src=\"images/polygon.png\" width=\"700\">"
   ]
  },
  {
   "cell_type": "markdown",
   "metadata": {},
   "source": [
    "### Another example using 'polygon'"
   ]
  },
  {
   "cell_type": "code",
   "execution_count": null,
   "metadata": {
    "collapsed": false
   },
   "outputs": [],
   "source": [
    "# Fill the area under lines\n",
    "x = runif(10)\n",
    "plot(x, type=\"l\")\n",
    "polygon(c(1, 1:10, 10),\n",
    "        c(0, x, 0), col = \"lightgoldenrod\")"
   ]
  },
  {
   "cell_type": "markdown",
   "metadata": {},
   "source": [
    "### Pie Chart"
   ]
  },
  {
   "cell_type": "code",
   "execution_count": null,
   "metadata": {
    "collapsed": false
   },
   "outputs": [],
   "source": [
    "# An example of making a pie chart\n",
    "\n",
    "# Create a simple set of data\n",
    "meat = c(8, 10, 16, 25, 41)\n",
    "names(meat) = c(\"Lamb\",\n",
    "                \"Mutton\",\n",
    "                \"Pigmeat\",\n",
    "                \"Poultry\",\n",
    "                \"Beef\")\n",
    "\n",
    "# A special way of specifying colors\n",
    "# by the angle (in degrees) around the\n",
    "# colour circle (0 = red, 60 = yellow, \n",
    "# 120 = green, 180 = cyan, 240 = blue, \n",
    "# 300 = magenta).\n",
    "cols = hcl(seq(0, 240, by = 60))\n",
    "pie(meat,\n",
    "    main = \"Meat Consumption\",\n",
    "    col = cols)"
   ]
  },
  {
   "cell_type": "markdown",
   "metadata": {},
   "source": [
    "### Bar Chart"
   ]
  },
  {
   "cell_type": "code",
   "execution_count": null,
   "metadata": {
    "collapsed": false
   },
   "outputs": [],
   "source": [
    "barplot(meat, ylim = c(0, 50),\n",
    "        col = hcl(0),\n",
    "        main = \"Meat Consumption\",\n",
    "        ylab = \"Percent in Category\")"
   ]
  },
  {
   "cell_type": "code",
   "execution_count": null,
   "metadata": {
    "collapsed": false
   },
   "outputs": [],
   "source": [
    "# We can make it horizontal\n",
    "\n",
    "barplot(meat, xlim = c(0, 50),\n",
    "        col = hcl(120),\n",
    "        main = \"Meat Consumption\",\n",
    "        xlab = \"Percent in Category\",\n",
    "        horiz = TRUE)"
   ]
  },
  {
   "cell_type": "markdown",
   "metadata": {},
   "source": [
    "### Dotchart"
   ]
  },
  {
   "cell_type": "code",
   "execution_count": null,
   "metadata": {
    "collapsed": false
   },
   "outputs": [],
   "source": [
    "dotchart(meat, xlim = range(0, meat),\n",
    "         main = \"Meat Consumption\",\n",
    "         xlab = \"Percent in Category\")"
   ]
  },
  {
   "cell_type": "markdown",
   "metadata": {},
   "source": [
    "**Exercise**: \n",
    "\n",
    "1) The following data shows the size of the New Zealand population, broken down by gender over the period 1926–2014. Create a data frame to group all the data together."
   ]
  },
  {
   "cell_type": "code",
   "execution_count": null,
   "metadata": {
    "collapsed": true
   },
   "outputs": [],
   "source": [
    "year = 1926:2014\n",
    "\n",
    "femalepop =\n",
    "    c(699200, 709900, 718700, 728300, 738900, 747100, 753800, \n",
    "      760800, 766400, 773000, 780300, 788700, 796600, 808800, \n",
    "      820600, 832000, 842700, 851200, 862700, 872300, 889900, \n",
    "      907400, 924600, 942600, 960400, 981000, 1006700, 1031600, \n",
    "      1053000, 1075700, 1098000, 1125000, 1150400, 1173700, 1195700, \n",
    "      1223300, 1251700, 1278500, 1304000, 1327100, 1351000, 1371400, \n",
    "      1387600, 1404200, 1426700, 1451100, 1481900, 1514900, 1548000, \n",
    "      1576100, 1585300, 1588000, 1589300, 1590100, 1594900, 1607600, \n",
    "      1624900, 1644100, 1660800, 1666300, 1674300, 1689200, 1695500, \n",
    "      1710100, 1728500, 1786000, 1803100, 1825400, 1850400, 1878700, \n",
    "      1906900, 1929700, 1945900, 1959500, 1972600, 1995700, 2032900, \n",
    "      2069800, 2098100, 2123300, 2149500, 2169000, 2187000, 2213000, \n",
    "      2234700, 2248300, 2262000, 2285600, 2320300)\n",
    "\n",
    "malepop =\n",
    "    c(730500, 740500, 748600, 757800, 767900, 775600, 780900, \n",
    "      786400, 792000, 796700, 804300, 813100, 821700, 832800, \n",
    "      813000, 799200, 793700, 790800, 813600, 855500, 891300, \n",
    "      910100, 929300, 949500, 967300, 989500, 1017900, 1043100, \n",
    "      1065400, 1089100, 1111200, 1137800, 1165600, 1186000, 1207900, \n",
    "      1238000, 1264100, 1288400, 1313000, 1336700, 1360300, 1373600, \n",
    "      1385400, 1399800, 1425400, 1447400, 1477800, 1510000, 1543900, \n",
    "      1567600, 1578100, 1578400, 1575900, 1573800, 1581500, 1586900, \n",
    "      1601900, 1620700, 1632200, 1636800, 1639200, 1652900, 1649700, \n",
    "      1659700, 1681900, 1730000, 1749100, 1772500, 1797800, 1828000, \n",
    "      1855400, 1872900, 1883300, 1891700, 1900400, 1920500, 1956700, \n",
    "      1991800, 2016200, 2037700, 2059600, 2076800, 2093300, 2119200, \n",
    "      2139200, 2151100, 2163800, 2190200, 2234200)"
   ]
  },
  {
   "cell_type": "markdown",
   "metadata": {},
   "source": [
    "2) The following plot shows the “excess number of females per hundred males” in the New\n",
    "Zealand population. Write some R code that produces this plot as close to exactly as it appears in this plot\n",
    "as you can get it.  \n",
    "\n",
    "<img src=\"images/nzpop.png\" width=\"700\">"
   ]
  },
  {
   "cell_type": "code",
   "execution_count": null,
   "metadata": {
    "collapsed": true
   },
   "outputs": [],
   "source": []
  }
 ],
 "metadata": {
  "anaconda-cloud": {},
  "kernelspec": {
   "display_name": "R",
   "language": "R",
   "name": "ir"
  },
  "language_info": {
   "codemirror_mode": "r",
   "file_extension": ".r",
   "mimetype": "text/x-r-source",
   "name": "R",
   "pygments_lexer": "r",
   "version": "3.3.1"
  }
 },
 "nbformat": 4,
 "nbformat_minor": 1
}
