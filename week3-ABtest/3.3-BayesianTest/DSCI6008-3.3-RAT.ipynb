{
 "cells": [
  {
   "cell_type": "markdown",
   "metadata": {},
   "source": [
    "# RAT 5  "
   ]
  },
  {
   "cell_type": "markdown",
   "metadata": {},
   "source": [
    "1) An e-commerce company wants to test if providing online chat on their website improves their conversion rate (the percentage of visitors who make purchase on the site). Briefly describe how you would help them to test this. Clearly define and explain any metrics you use.  "
   ]
  },
  {
   "cell_type": "markdown",
   "metadata": {},
   "source": [
    "2) If the company's current conversion rate is 35%, and it's only worthwhile for them to launch the new feature if they observe a $\\geq$ 5% increase in conversion rate. What would be the total sample size of this experiment. Assume $\\alpha = 0.05$ and $\\beta = 0.2$.  "
   ]
  }
 ],
 "metadata": {
  "anaconda-cloud": {},
  "kernelspec": {
   "display_name": "R",
   "language": "R",
   "name": "ir"
  },
  "language_info": {
   "codemirror_mode": "r",
   "file_extension": ".r",
   "mimetype": "text/x-r-source",
   "name": "R",
   "pygments_lexer": "r",
   "version": "3.3.1"
  }
 },
 "nbformat": 4,
 "nbformat_minor": 1
}
