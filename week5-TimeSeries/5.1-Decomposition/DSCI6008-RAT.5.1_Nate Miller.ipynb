{
 "cells": [
  {
   "cell_type": "markdown",
   "metadata": {},
   "source": [
    "# DSCI 6008 RAT 5.1_NateMiller\n",
    "\n",
    "You are the lead scientist working on an analysis of click through rate (CTR) processes at Amazon. You and your team have determined that only two major hypothesis are competing with each other: either the \"buy\" button should be red or it should be blue. Google is your friend.\n",
    "\n",
    "1. What is a good guess for a prior for each of these hypothesis? Provide a short explanation.\n",
    "\n",
    "2. How would you model the likelihood of CTR given each of these hypothesis? What function do you use?\n",
    "\n",
    "3. Now that you have the functions needed to test the hypotheses, you'll need to parametrize them. How do you do so, given a database of historical data?\n",
    "\n",
    "4. Now, what if I told you that we have no belief in a fixed prior and we wanted to perform continuous updating of the model as data came in. What prior would you choose?\n",
    "\n",
    "5. Now using all the information from above and your correct answer from #4, I tell you that the historical average of CTR is typically 8 clicks in 60 views. For the red button hypothesis, our last test group found 1140 clicks in 6800 views. For the blue button hypothesis, our last test group found 2140 clicks in 7800 views. Which button do you recommend to the engineering team to publish? "
   ]
  },
  {
   "cell_type": "markdown",
   "metadata": {},
   "source": [
    "1. This is a bernoulli process and thus a reasonable prior would be a binomial distribution (Prior should be uniform)\n",
    "2. I would use a proportion test to see if the proportion of clicks for each button were equal. (Bernoulli, assuming unique views) \n",
    "3. The functions would be parameterized using expectation maximization to estimate the parameters from the historical data\n",
    "4. Given that this is a bernoulli processes with a value between 0 and 1 using a beta distribution would be useful. This distribution is uniform between 0 and 1 and when combined with a bernoulli, the posterior is also a beta, facilitating Bayesian updating. \n",
    "5. Using a prop test in R we find a 95 percent confidence interval for the true proportion that is [0.09327, 0.12015]. This interval does not contain 0 and thus the two proportions are not the same, with the clicks on the blue button being significantly higher. Whether we have the power to detect an important difference is hard to say, but if we assume that a difference in proportion of clicks of 0.01 is significant we can run a power test and determine that we need 287 clicks per group to detect that size difference with a power of 0.8. "
   ]
  },
  {
   "cell_type": "code",
   "execution_count": null,
   "metadata": {
    "collapsed": true
   },
   "outputs": [],
   "source": []
  }
 ],
 "metadata": {
  "anaconda-cloud": {},
  "kernelspec": {
   "display_name": "Python [default]",
   "language": "python",
   "name": "python3"
  },
  "language_info": {
   "codemirror_mode": {
    "name": "ipython",
    "version": 3
   },
   "file_extension": ".py",
   "mimetype": "text/x-python",
   "name": "python",
   "nbconvert_exporter": "python",
   "pygments_lexer": "ipython3",
   "version": "3.5.2"
  }
 },
 "nbformat": 4,
 "nbformat_minor": 0
}
