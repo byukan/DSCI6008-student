{
 "cells": [
  {
   "cell_type": "markdown",
   "metadata": {},
   "source": [
    "# DSCI 6008 RAT 5.1\n",
    "\n",
    "You are the lead scientist working on an analysis of click through rate (CTR) processes at Amazon. You and your team have determined that only two major hypothesis are competing with each other: either the \"buy\" button should be red or it should be blue. Google is your friend.\n",
    "\n",
    "1. What is a good guess for a prior for each of these hypothesis? Provide a short explanation.\n",
    "\n",
    "2. How would you model the likelihood of CTR given each of these hypothesis? What function do you use?\n",
    "\n",
    "3. Now that you have the functions needed to test the hypotheses, you'll need to parametrize them. How do you do so, given a database of historical data?\n",
    "\n",
    "4. Now, what if I told you that we have no belief in a fixed prior and we wanted to perform continuous updating of the model as data came in. What prior would you choose?\n",
    "\n",
    "5. Now using all the information from above and your correct answer from #4, I tell you that the historical average of CTR is typically 8 clicks in 60 views. For the red button hypothesis, our last test group found 1140 clicks in 6800 views. For the blue button hypothesis, our last test group found 2140 clicks in 7800 views. Which button do you recommend to the engineering team to publish? "
   ]
  }
 ],
 "metadata": {
  "kernelspec": {
   "display_name": "Python 3",
   "language": "python",
   "name": "python3"
  },
  "language_info": {
   "codemirror_mode": {
    "name": "ipython",
    "version": 3
   },
   "file_extension": ".py",
   "mimetype": "text/x-python",
   "name": "python",
   "nbconvert_exporter": "python",
   "pygments_lexer": "ipython3",
   "version": "3.3.5"
  }
 },
 "nbformat": 4,
 "nbformat_minor": 0
}
