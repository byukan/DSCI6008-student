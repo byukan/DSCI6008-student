{
 "cells": [
  {
   "cell_type": "code",
   "execution_count": 3,
   "metadata": {
    "collapsed": false
   },
   "outputs": [
    {
     "name": "stdout",
     "output_type": "stream",
     "text": [
      "Requirement already satisfied (use --upgrade to upgrade): patsy in /anaconda/envs/r-env/lib/python3.5/site-packages\n",
      "Requirement already satisfied (use --upgrade to upgrade): pandas in /anaconda/envs/r-env/lib/python3.5/site-packages\n",
      "Requirement already satisfied (use --upgrade to upgrade): six in /anaconda/envs/r-env/lib/python3.5/site-packages (from patsy)\n",
      "Requirement already satisfied (use --upgrade to upgrade): numpy in /anaconda/envs/r-env/lib/python3.5/site-packages (from patsy)\n",
      "Requirement already satisfied (use --upgrade to upgrade): python-dateutil>=2 in /anaconda/envs/r-env/lib/python3.5/site-packages (from pandas)\n",
      "Requirement already satisfied (use --upgrade to upgrade): pytz>=2011k in /anaconda/envs/r-env/lib/python3.5/site-packages (from pandas)\n",
      "\u001b[33mYou are using pip version 8.1.2, however version 9.0.1 is available.\n",
      "You should consider upgrading via the 'pip install --upgrade pip' command.\u001b[0m\n",
      "Collecting git+https://github.com/pymc-devs/pymc3\n",
      "  Cloning https://github.com/pymc-devs/pymc3 to /var/folders/sy/t42p3qkn5ddckw_9ztqdy2000000gn/T/pip-6v4akh5_-build\n",
      "Requirement already satisfied (use --upgrade to upgrade): numpy>=1.11.0 in /anaconda/envs/r-env/lib/python3.5/site-packages (from pymc3==3.0rc2)\n",
      "Requirement already satisfied (use --upgrade to upgrade): scipy>=0.12.0 in /anaconda/envs/r-env/lib/python3.5/site-packages (from pymc3==3.0rc2)\n",
      "Requirement already satisfied (use --upgrade to upgrade): matplotlib>=1.5.0 in /anaconda/envs/r-env/lib/python3.5/site-packages (from pymc3==3.0rc2)\n",
      "Collecting theano>=0.8.2 (from pymc3==3.0rc2)\n",
      "  Using cached Theano-0.8.2.tar.gz\n",
      "Requirement already satisfied (use --upgrade to upgrade): pandas>=0.18.0 in /anaconda/envs/r-env/lib/python3.5/site-packages (from pymc3==3.0rc2)\n",
      "Requirement already satisfied (use --upgrade to upgrade): patsy>=0.4.0 in /anaconda/envs/r-env/lib/python3.5/site-packages (from pymc3==3.0rc2)\n",
      "Collecting joblib>=0.9 (from pymc3==3.0rc2)\n",
      "  Downloading joblib-0.10.3-py2.py3-none-any.whl (166kB)\n",
      "\u001b[K    100% |████████████████████████████████| 174kB 1.1MB/s \n",
      "\u001b[?25hCollecting tqdm>=4.8.4 (from pymc3==3.0rc2)\n",
      "  Downloading tqdm-4.10.0-py2.py3-none-any.whl (43kB)\n",
      "\u001b[K    100% |████████████████████████████████| 51kB 2.0MB/s \n",
      "\u001b[?25hCollecting CommonMark==0.5.4 (from pymc3==3.0rc2)\n",
      "  Downloading CommonMark-0.5.4.tar.gz (120kB)\n",
      "\u001b[K    100% |████████████████████████████████| 122kB 1.8MB/s \n",
      "\u001b[?25hCollecting recommonmark (from pymc3==3.0rc2)\n",
      "  Downloading recommonmark-0.4.0-py2.py3-none-any.whl\n",
      "Requirement already satisfied (use --upgrade to upgrade): sphinx in /anaconda/envs/r-env/lib/python3.5/site-packages/Sphinx-1.4.6-py3.5.egg (from pymc3==3.0rc2)\n",
      "Collecting nbsphinx (from pymc3==3.0rc2)\n",
      "  Downloading nbsphinx-0.2.11-py2.py3-none-any.whl\n",
      "Collecting numpydoc (from pymc3==3.0rc2)\n",
      "  Downloading numpydoc-0.6.0.tar.gz\n",
      "Requirement already satisfied (use --upgrade to upgrade): python-dateutil in /anaconda/envs/r-env/lib/python3.5/site-packages (from matplotlib>=1.5.0->pymc3==3.0rc2)\n",
      "Requirement already satisfied (use --upgrade to upgrade): pytz in /anaconda/envs/r-env/lib/python3.5/site-packages (from matplotlib>=1.5.0->pymc3==3.0rc2)\n",
      "Requirement already satisfied (use --upgrade to upgrade): cycler in /anaconda/envs/r-env/lib/python3.5/site-packages (from matplotlib>=1.5.0->pymc3==3.0rc2)\n",
      "Requirement already satisfied (use --upgrade to upgrade): pyparsing!=2.0.4,!=2.1.2,>=1.5.6 in /anaconda/envs/r-env/lib/python3.5/site-packages (from matplotlib>=1.5.0->pymc3==3.0rc2)\n",
      "Requirement already satisfied (use --upgrade to upgrade): six>=1.9.0 in /anaconda/envs/r-env/lib/python3.5/site-packages (from theano>=0.8.2->pymc3==3.0rc2)\n",
      "Requirement already satisfied (use --upgrade to upgrade): docutils>=0.11 in /anaconda/envs/r-env/lib/python3.5/site-packages (from recommonmark->pymc3==3.0rc2)\n",
      "Requirement already satisfied (use --upgrade to upgrade): Jinja2>=2.3 in /anaconda/envs/r-env/lib/python3.5/site-packages (from sphinx->pymc3==3.0rc2)\n",
      "Requirement already satisfied (use --upgrade to upgrade): Pygments>=2.0 in /anaconda/envs/r-env/lib/python3.5/site-packages (from sphinx->pymc3==3.0rc2)\n",
      "Requirement already satisfied (use --upgrade to upgrade): snowballstemmer>=1.1 in /anaconda/envs/r-env/lib/python3.5/site-packages (from sphinx->pymc3==3.0rc2)\n",
      "Requirement already satisfied (use --upgrade to upgrade): babel!=2.0,>=1.3 in /anaconda/envs/r-env/lib/python3.5/site-packages (from sphinx->pymc3==3.0rc2)\n",
      "Requirement already satisfied (use --upgrade to upgrade): alabaster<0.8,>=0.7 in /anaconda/envs/r-env/lib/python3.5/site-packages (from sphinx->pymc3==3.0rc2)\n",
      "Requirement already satisfied (use --upgrade to upgrade): imagesize in /anaconda/envs/r-env/lib/python3.5/site-packages (from sphinx->pymc3==3.0rc2)\n",
      "Requirement already satisfied (use --upgrade to upgrade): nbconvert in /anaconda/envs/r-env/lib/python3.5/site-packages (from nbsphinx->pymc3==3.0rc2)\n",
      "Requirement already satisfied (use --upgrade to upgrade): nbformat in /anaconda/envs/r-env/lib/python3.5/site-packages (from nbsphinx->pymc3==3.0rc2)\n",
      "Requirement already satisfied (use --upgrade to upgrade): traitlets in /anaconda/envs/r-env/lib/python3.5/site-packages (from nbsphinx->pymc3==3.0rc2)\n",
      "Requirement already satisfied (use --upgrade to upgrade): MarkupSafe in /anaconda/envs/r-env/lib/python3.5/site-packages (from Jinja2>=2.3->sphinx->pymc3==3.0rc2)\n",
      "Building wheels for collected packages: theano, CommonMark, numpydoc\n",
      "  Running setup.py bdist_wheel for theano ... \u001b[?25l-\b \b\\\b \b|\b \b/\b \b-\b \b\\\b \b|\b \b/\b \b-\b \b\\\b \b|\b \b/\b \b-\b \b\\\b \bdone\n",
      "\u001b[?25h  Stored in directory: /Users/nmiller/Library/Caches/pip/wheels/96/2b/3d/71d54e24a7171a4afb7144d1e944a7be643b448b23a35b9937\n",
      "  Running setup.py bdist_wheel for CommonMark ... \u001b[?25l-\b \b\\\b \bdone\n",
      "\u001b[?25h  Stored in directory: /Users/nmiller/Library/Caches/pip/wheels/fd/3a/ea/9ead7944d8ba3771888487ca4f6ef39bcde9fd4e986c32f442\n",
      "  Running setup.py bdist_wheel for numpydoc ... \u001b[?25l-\b \b\\\b \bdone\n",
      "\u001b[?25h  Stored in directory: /Users/nmiller/Library/Caches/pip/wheels/9d/ca/8c/9be286b195791bbbfebfd407899de13eb12725a2c2c9fdb36f\n",
      "Successfully built theano CommonMark numpydoc\n",
      "Installing collected packages: theano, joblib, tqdm, CommonMark, recommonmark, nbsphinx, numpydoc, pymc3\n",
      "  Running setup.py install for pymc3 ... \u001b[?25l-\b \b\\\b \b|\b \b/\b \b-\b \b\\\b \b|\b \b/\b \b-\b \b\\\b \b|\b \bdone\n",
      "\u001b[?25hSuccessfully installed CommonMark-0.5.4 joblib-0.10.3 nbsphinx-0.2.11 numpydoc-0.6.0 pymc3-3.0rc2 recommonmark-0.4.0 theano-0.8.2 tqdm-4.10.0\n",
      "\u001b[33mYou are using pip version 8.1.2, however version 9.0.1 is available.\n",
      "You should consider upgrading via the 'pip install --upgrade pip' command.\u001b[0m\n"
     ]
    }
   ],
   "source": [
    "!pip install patsy pandas\n",
    "!pip install git+https://github.com/pymc-devs/pymc3"
   ]
  },
  {
   "cell_type": "code",
   "execution_count": 7,
   "metadata": {
    "collapsed": false
   },
   "outputs": [],
   "source": [
    "import numpy as np\n",
    "import pandas as pd\n",
    "import seaborn as sns"
   ]
  },
  {
   "cell_type": "code",
   "execution_count": 9,
   "metadata": {
    "collapsed": false
   },
   "outputs": [
    {
     "ename": "ImportError",
     "evalue": "No module named 'pymc3'",
     "output_type": "error",
     "traceback": [
      "\u001b[0;31m---------------------------------------------------------------------------\u001b[0m",
      "\u001b[0;31mImportError\u001b[0m                               Traceback (most recent call last)",
      "\u001b[0;32m<ipython-input-9-37bf2a3357ff>\u001b[0m in \u001b[0;36m<module>\u001b[0;34m()\u001b[0m\n\u001b[0;32m----> 1\u001b[0;31m \u001b[0;32mimport\u001b[0m \u001b[0mpymc3\u001b[0m\u001b[0;34m\u001b[0m\u001b[0m\n\u001b[0m",
      "\u001b[0;31mImportError\u001b[0m: No module named 'pymc3'"
     ]
    }
   ],
   "source": [
    "import pymc3"
   ]
  },
  {
   "cell_type": "code",
   "execution_count": null,
   "metadata": {
    "collapsed": true
   },
   "outputs": [],
   "source": [
    "def glm_mcmc_inference(df, iterations=5000):\n",
    "    \"\"\"\n",
    "    Calculates the Markov Chain Monte Carlo trace of\n",
    "    a Generalised Linear Model Bayesian linear regression \n",
    "    model on supplied data.\n",
    "\n",
    "    df: DataFrame containing the data\n",
    "    iterations: Number of iterations to carry out MCMC for\n",
    "    \"\"\"\n",
    "    # Use PyMC3 to construct a model context\n",
    "    basic_model = pm.Model()\n",
    "    with basic_model:\n",
    "        # Create the glm using the Patsy model syntax\n",
    "        # We use a Normal distribution for the likelihood\n",
    "        pm.glm.glm(\"y ~ x\", df, family=pm.glm.families.Normal())\n",
    "\n",
    "        # Use Maximum A Posteriori (MAP) optimisation as initial value for MCMC\n",
    "        start = pm.find_MAP()\n",
    "\n",
    "        # Use the No-U-Turn Sampler\n",
    "        step = pm.NUTS()\n",
    "\n",
    "        # Calculate the trace\n",
    "        trace = pm.sample(\n",
    "            iterations, step, start, \n",
    "            random_seed=42, progressbar=True\n",
    "        )\n",
    "\n",
    "    return trace\n",
    "\n",
    "...\n",
    "...\n",
    "\n",
    "if __name__ == \"__main__\":\n",
    "    ...\n",
    "    ...\n",
    "    trace = glm_mcmc_inference(df, iterations=5000)\n",
    "    pm.traceplot(trace[500:])\n",
    "    plt.show()"
   ]
  }
 ],
 "metadata": {
  "anaconda-cloud": {},
  "kernelspec": {
   "display_name": "Python [conda env:py3_nlp]",
   "language": "python",
   "name": "conda-env-py3_nlp-py"
  },
  "language_info": {
   "codemirror_mode": {
    "name": "ipython",
    "version": 3
   },
   "file_extension": ".py",
   "mimetype": "text/x-python",
   "name": "python",
   "nbconvert_exporter": "python",
   "pygments_lexer": "ipython3",
   "version": "3.5.1"
  }
 },
 "nbformat": 4,
 "nbformat_minor": 1
}
